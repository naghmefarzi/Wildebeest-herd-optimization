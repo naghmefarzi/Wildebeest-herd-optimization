{
  "cells": [
    {
      "cell_type": "markdown",
      "metadata": {
        "id": "-fBeFgx0atny"
      },
      "source": [
        "## Libraries"
      ]
    },
    {
      "cell_type": "code",
      "execution_count": null,
      "metadata": {
        "id": "ZAY6k0U2POJJ"
      },
      "outputs": [],
      "source": [
        "import numpy as np\n",
        "import pandas as pd\n",
        "from random import gauss\n",
        "import statistics\n",
        "import random\n",
        "import copy\n",
        "import math\n",
        "import sys\n",
        "from numpy import asarray\n",
        "from numpy import exp\n",
        "from numpy.random import randn\n",
        "from numpy.random import rand\n",
        "from numpy.random import seed\n",
        "import matplotlib.pyplot as plt"
      ]
    },
    {
      "cell_type": "code",
      "execution_count": null,
      "metadata": {
        "colab": {
          "base_uri": "https://localhost:8080/"
        },
        "id": "VcL7fnfFaOSU",
        "outputId": "f82a86ac-321f-474d-cd9a-e9b2651baea0"
      },
      "outputs": [
        {
          "output_type": "stream",
          "name": "stdout",
          "text": [
            "Collecting deap\n",
            "  Downloading deap-1.3.1-cp37-cp37m-manylinux_2_5_x86_64.manylinux1_x86_64.manylinux_2_12_x86_64.manylinux2010_x86_64.whl (160 kB)\n",
            "\u001b[?25l\r\u001b[K     |██                              | 10 kB 21.9 MB/s eta 0:00:01\r\u001b[K     |████                            | 20 kB 10.3 MB/s eta 0:00:01\r\u001b[K     |██████                          | 30 kB 8.8 MB/s eta 0:00:01\r\u001b[K     |████████▏                       | 40 kB 8.3 MB/s eta 0:00:01\r\u001b[K     |██████████▏                     | 51 kB 4.3 MB/s eta 0:00:01\r\u001b[K     |████████████▏                   | 61 kB 5.1 MB/s eta 0:00:01\r\u001b[K     |██████████████▎                 | 71 kB 5.6 MB/s eta 0:00:01\r\u001b[K     |████████████████▎               | 81 kB 5.8 MB/s eta 0:00:01\r\u001b[K     |██████████████████▎             | 92 kB 6.4 MB/s eta 0:00:01\r\u001b[K     |████████████████████▍           | 102 kB 5.3 MB/s eta 0:00:01\r\u001b[K     |██████████████████████▍         | 112 kB 5.3 MB/s eta 0:00:01\r\u001b[K     |████████████████████████▍       | 122 kB 5.3 MB/s eta 0:00:01\r\u001b[K     |██████████████████████████▌     | 133 kB 5.3 MB/s eta 0:00:01\r\u001b[K     |████████████████████████████▌   | 143 kB 5.3 MB/s eta 0:00:01\r\u001b[K     |██████████████████████████████▌ | 153 kB 5.3 MB/s eta 0:00:01\r\u001b[K     |████████████████████████████████| 160 kB 5.3 MB/s \n",
            "\u001b[?25hRequirement already satisfied: numpy in /usr/local/lib/python3.7/dist-packages (from deap) (1.21.5)\n",
            "Installing collected packages: deap\n",
            "Successfully installed deap-1.3.1\n"
          ]
        }
      ],
      "source": [
        "!pip install deap"
      ]
    },
    {
      "cell_type": "code",
      "execution_count": null,
      "metadata": {
        "id": "n1k9J8Bgaggc"
      },
      "outputs": [],
      "source": [
        "from deap.benchmarks import *"
      ]
    },
    {
      "cell_type": "code",
      "execution_count": null,
      "metadata": {
        "colab": {
          "base_uri": "https://localhost:8080/"
        },
        "id": "cms2IHJEbj0f",
        "outputId": "f668b285-44ca-4386-d99d-6f42af5671dd"
      },
      "outputs": [
        {
          "output_type": "stream",
          "name": "stdout",
          "text": [
            "Collecting geneticalgorithm\n",
            "  Downloading geneticalgorithm-1.0.2-py3-none-any.whl (16 kB)\n",
            "Requirement already satisfied: numpy in /usr/local/lib/python3.7/dist-packages (from geneticalgorithm) (1.21.5)\n",
            "Collecting func-timeout\n",
            "  Downloading func_timeout-4.3.5.tar.gz (44 kB)\n",
            "\u001b[?25l\r\u001b[K     |███████▍                        | 10 kB 18.1 MB/s eta 0:00:01\r\u001b[K     |██████████████▉                 | 20 kB 17.0 MB/s eta 0:00:01\r\u001b[K     |██████████████████████▏         | 30 kB 10.9 MB/s eta 0:00:01\r\u001b[K     |█████████████████████████████▋  | 40 kB 4.5 MB/s eta 0:00:01\r\u001b[K     |████████████████████████████████| 44 kB 1.8 MB/s \n",
            "\u001b[?25hBuilding wheels for collected packages: func-timeout\n",
            "  Building wheel for func-timeout (setup.py) ... \u001b[?25l\u001b[?25hdone\n",
            "  Created wheel for func-timeout: filename=func_timeout-4.3.5-py3-none-any.whl size=15098 sha256=51112358d2a162a23719c3de81d45b0533a050c4460ba1addca3ba65be214ad3\n",
            "  Stored in directory: /root/.cache/pip/wheels/68/b5/a5/67c4364c354e141f5a1bd3ec568126f77877ab7554cf5af8cb\n",
            "Successfully built func-timeout\n",
            "Installing collected packages: func-timeout, geneticalgorithm\n",
            "Successfully installed func-timeout-4.3.5 geneticalgorithm-1.0.2\n"
          ]
        }
      ],
      "source": [
        "!pip install geneticalgorithm\n",
        "import numpy as np\n",
        "import math\n",
        "from geneticalgorithm import geneticalgorithm as ga"
      ]
    },
    {
      "cell_type": "code",
      "execution_count": null,
      "metadata": {
        "id": "qzD7nI3wE7Lu"
      },
      "outputs": [],
      "source": [
        "# %tensorflow_version 2.x\n",
        "# import tensorflow as tf\n",
        "# device_name = tf.test.gpu_device_name()\n",
        "# if device_name != '/device:GPU:0':\n",
        "#   raise SystemError('GPU device not found')\n",
        "# print('Found GPU at: {}'.format(device_name))"
      ]
    },
    {
      "cell_type": "markdown",
      "metadata": {
        "id": "KtbrszyTndE0"
      },
      "source": [
        "## WHO"
      ]
    },
    {
      "cell_type": "code",
      "execution_count": null,
      "metadata": {
        "id": "5VGzK6g6QYvG"
      },
      "outputs": [],
      "source": [
        "def create_population(pop_size,lowerb,upperb,dim=20):\n",
        "  population = np.random.uniform(lowerb,upperb,dim*pop_size).reshape(-1,dim)\n",
        "  return population\n",
        "def rastrigin(x):\n",
        "  try:\n",
        "    n = len(x)\n",
        "  except:\n",
        "    n=1  \n",
        "  return 10*n+np.sum(x**2-10*np.cos(2*np.pi*x))\n",
        "\n",
        "def schwefel(x):\n",
        "  try:\n",
        "    n = len(x)\n",
        "  except:\n",
        "    n=1 \n",
        "  return 418.9829*n - np.sum(x*np.sin(np.sqrt(np.abs(x))))\n",
        "def griewangk(x):\n",
        "  try:\n",
        "    i=np.array([i for i in range(len(x))])\n",
        "    return 1+np.sum((x**2)/4000)-np.product(np.cos(x/np.sqrt(i)))\n",
        "  except:  \n",
        "    i=np.array([1])\n",
        "    return 1+np.sum((x**2)/4000)-np.product(np.cos(x/np.sqrt(i))) \n",
        "def sphere1(x):\n",
        "  return sphere(x)[0]\n",
        "\n",
        "def mean(data):\n",
        "    \"\"\"Return the sample arithmetic mean of data.\"\"\"\n",
        "    n = len(data)\n",
        "    if n < 1:\n",
        "        raise ValueError('mean requires at least one data point')\n",
        "    return sum(data)/n # in Python 2 use sum(data)/float(n)\n"
      ]
    },
    {
      "cell_type": "code",
      "execution_count": null,
      "metadata": {
        "id": "xy3X8ZekTCTV"
      },
      "outputs": [],
      "source": [
        "def make_rand_unit_vector(dim):\n",
        "    vec = [0]*dim\n",
        "    vec[random.randint(0,dim-1)]=1\n",
        "    return np.array(vec)"
      ]
    },
    {
      "cell_type": "code",
      "execution_count": null,
      "metadata": {
        "id": "hwUM-ESwRg7e"
      },
      "outputs": [],
      "source": [
        "\n",
        "def calculate_fitnesses(population,function='rastrigin'):\n",
        "  cp = []\n",
        "  for i,p in enumerate(population):\n",
        "    cp.append(fitness(p,function))\n",
        "  return np.array(cp)     \n",
        "def fitness(x,function='rastrigin'):\n",
        "  if function == 'rastrigin':\n",
        "    return rastrigin(x)  \n",
        "  elif function=='ackley':\n",
        "    return ackley(x)  \n",
        "  elif function=='weierstrass':\n",
        "    return weierstrass(x)  \n",
        "  elif function=='sphere':\n",
        "    # print(sphere(x))\n",
        "    return sphere(x)[0]  \n"
      ]
    },
    {
      "cell_type": "code",
      "execution_count": null,
      "metadata": {
        "id": "0yF47EHdWbWm"
      },
      "outputs": [],
      "source": [
        "def local_movement(xp_cp_dataframe,ns,argmin_star,c_p_star,alpha1,betta1,dim,function='rastrigin'):\n",
        "  for idx,row in xp_cp_dataframe.iterrows():\n",
        "    xp=row['x_p']\n",
        "    cp=row['c_p']\n",
        "    df = pd.DataFrame(columns=['y_s','c_s'])\n",
        "    for s in range(ns):\n",
        "      # print(xp.shape,make_rand_unit_vector(dim).shape)\n",
        "      y_s= xp+etha*make_rand_unit_vector(dim)\n",
        "      # print(function)\n",
        "      c_s= fitness(y_s,function)\n",
        "      df.loc[len(df)]=[y_s,c_s]\n",
        "    # print(df)  \n",
        "    argmin=df['c_s'].idxmin() \n",
        "    s_star=df['y_s'].loc[argmin]\n",
        "    xp=alpha1*s_star+betta1*(xp-s_star)\n",
        "    xp_cp_dataframe.at[idx,'x_p']=xp\n",
        "    cp=fitness(xp,function)\n",
        "    xp_cp_dataframe.at[idx,'c_p']=cp\n",
        "    if cp < c_p_star:\n",
        "      argmin_star=idx\n",
        "      c_p_star=cp\n",
        "  return xp_cp_dataframe,argmin_star,c_p_star      \n"
      ]
    },
    {
      "cell_type": "code",
      "execution_count": null,
      "metadata": {
        "id": "Kqijqk65fT6R"
      },
      "outputs": [],
      "source": []
    },
    {
      "cell_type": "code",
      "execution_count": null,
      "metadata": {
        "id": "YW3vYYcmbHyu"
      },
      "outputs": [],
      "source": [
        "def herd_distinction(xp_cp_dataframe,argmin_star,c_p_star,ph,alpha2,betta2,function='rastrigin'):\n",
        "  for idx,row in xp_cp_dataframe.iterrows():\n",
        "    xp=row['x_p']\n",
        "    cp=row['c_p']\n",
        "    h=np.random.randint(0,len(xp_cp_dataframe))\n",
        "    xh=xp_cp_dataframe['x_p'].loc[h]\n",
        "    ch=xp_cp_dataframe['c_p'].loc[h]\n",
        "    u = np.random.uniform(0,1)\n",
        "    if ch<cp and u<ph:\n",
        "      xp=alpha2*xp+betta2*xh\n",
        "      cp=fitness(xp,function)\n",
        "      xp_cp_dataframe.at[idx,'x_p']=xp\n",
        "      xp_cp_dataframe.at[idx,'c_p']=cp\n",
        "    if cp < c_p_star:\n",
        "      argmin_star=idx\n",
        "      c_p_star=cp\n",
        "  return xp_cp_dataframe,argmin_star,c_p_star       \n",
        "\n",
        "\n",
        "\n"
      ]
    },
    {
      "cell_type": "code",
      "execution_count": null,
      "metadata": {
        "id": "lmuTiE7iD1u3"
      },
      "outputs": [],
      "source": [
        "def starvation_avoidance(xp_cp_dataframe,x_worst,dim,etha,distance_from_crowding_threshold,distance_from_worst_threshold,ne,function='rastrigin'):\n",
        "  argmin_star=xp_cp_dataframe['c_p'].idxmin()\n",
        "  cp_star=xp_cp_dataframe['c_p'].loc[argmin_star] \n",
        "  for idx,row in xp_cp_dataframe.iterrows():\n",
        "    xp=row['x_p']\n",
        "    cp=row['c_p']    \n",
        "    x_min=xp_cp_dataframe['x_p'].loc[argmin_star]\n",
        "    argmax=xp_cp_dataframe['c_p'].idxmax()\n",
        "    x_max=xp_cp_dataframe['x_p'].loc[argmax]\n",
        "    dist= np.linalg.norm((xp-x_worst))\n",
        "    # print( dist)\n",
        "    if dist< distance_from_worst_threshold:\n",
        "      xp=xp+np.random.uniform(0,1)*(x_max-x_min)*make_rand_unit_vector(dim)\n",
        "      cp=fitness(xp,function)\n",
        "      xp_cp_dataframe.at[idx,'x_p']=xp\n",
        "      xp_cp_dataframe.at[idx,'c_p']=cp\n",
        "      if cp<cp_star:\n",
        "        argmin_star=idx\n",
        "        cp_star=cp\n",
        "    dist2 = np.linalg.norm((x_min-xp)) \n",
        "    if dist2<distance_from_crowding_threshold and dist2>1:\n",
        "      xp=x_min+etha*np.ones(x_min.size)#n vec\n",
        "      cp=fitness(xp,function)\n",
        "      xp_cp_dataframe.at[idx,'x_p']=xp\n",
        "      xp_cp_dataframe.at[idx,'c_p']=cp\n",
        "      if cp<cp_star:\n",
        "        argmin_star=idx\n",
        "        cp_star=cp\n",
        "\n",
        "    for _ in range(ne):\n",
        "      x=x_min+.1*make_rand_unit_vector(dim)\n",
        "      c=fitness(x,function)\n",
        "      argmin_star=xp_cp_dataframe['c_p'].idxmin()\n",
        "      cp_star=xp_cp_dataframe['c_p'].loc[argmin_star]\n",
        "      if c<cp_star:\n",
        "        cp_star=c\n",
        "        xp_cp_dataframe.at[argmin_star,'x_p']=x\n",
        "        xp_cp_dataframe.at[argmin_star,'c_p']=c\n",
        "\n",
        "  return xp_cp_dataframe,argmin_star,cp_star\n",
        "\n",
        "  "
      ]
    },
    {
      "cell_type": "code",
      "execution_count": null,
      "metadata": {
        "id": "l94HfYJsPTid"
      },
      "outputs": [],
      "source": [
        "def wildbeast_optimizaiton(xp_cp_dataframe,ns,dim,etha,distance_from_crowding_threshold,distance_from_worst_threshold,ne,ph,alpha1,betta1,alpha2,betta2,function='rastrigin'):\n",
        "  argmin_star=xp_cp_dataframe['c_p'].idxmin() \n",
        "  c_p_star=xp_cp_dataframe['c_p'].loc[argmin_star]\n",
        "  best_fitness_list=[]\n",
        "  for i in range(max_iteration):\n",
        "    if i%100==0:\n",
        "      print(f\"iteration # {i}\")\n",
        "    xp_cp_dataframe,argmin_star,c_p_star = local_movement(xp_cp_dataframe,ns,argmin_star,c_p_star,alpha1,betta1,dim,function)\n",
        "    xp_cp_dataframe,argmin_star,c_p_star = herd_distinction(xp_cp_dataframe,argmin_star,c_p_star,ph,alpha2,betta2,function)\n",
        "    argmax_star=xp_cp_dataframe['c_p'].idxmax() \n",
        "    x_worst=xp_cp_dataframe['x_p'].loc[argmax_star]\n",
        "    xp_cp_dataframe,argmin_star,cp_star = starvation_avoidance(xp_cp_dataframe,x_worst,dim,etha,distance_from_crowding_threshold,distance_from_worst_threshold,ne,function)\n",
        "    best_fitness_list.append(cp_star)\n",
        "  return best_fitness_list"
      ]
    },
    {
      "cell_type": "markdown",
      "metadata": {
        "id": "2-c4zgQ97i5X"
      },
      "source": [
        "## pso"
      ]
    },
    {
      "cell_type": "code",
      "execution_count": null,
      "metadata": {
        "id": "GVIjChE41qly"
      },
      "outputs": [],
      "source": [
        "\n",
        "class Particle:\n",
        "  def __init__(self, fitness, dim, minx, maxx, seed):\n",
        "    self.rnd = random.Random(seed)\n",
        " \n",
        "    # initialize position of the particle with 0.0 value\n",
        "    self.position = [0.0 for i in range(dim)]\n",
        " \n",
        "     # initialize velocity of the particle with 0.0 value\n",
        "    self.velocity = [0.0 for i in range(dim)]\n",
        " \n",
        "    # initialize best particle position of the particle with 0.0 value\n",
        "    self.best_part_pos = [0.0 for i in range(dim)]\n",
        " \n",
        "    # loop dim times to calculate random position and velocity\n",
        "    # range of position and velocity is [minx, max]\n",
        "    for i in range(dim):\n",
        "      self.position[i] = ((maxx - minx) *\n",
        "        self.rnd.random() + minx)\n",
        "      self.velocity[i] = ((maxx - minx) *\n",
        "        self.rnd.random() + minx)\n",
        " \n",
        "    # compute fitness of particle\n",
        "    self.fitness = fitness(self.position) # curr fitness\n",
        " \n",
        "    # initialize best position and fitness of this particle\n",
        "    self.best_part_pos = copy.copy(self.position)\n",
        "    self.best_part_fitnessVal = self.fitness # best fitness\n",
        " \n",
        "# particle swarm optimization function\n",
        "def pso(fitness, max_iter, n, dim, minx, maxx,w=.4,c1=1.5,c2=2.4):\n",
        " \n",
        "  rnd = random.Random(0)\n",
        " \n",
        "  # create n random particles\n",
        "  swarm = [Particle(fitness, dim, minx, maxx, i) for i in range(n)]\n",
        " \n",
        "  # compute the value of best_position and best_fitness in swarm\n",
        "  best_swarm_pos = [0.0 for i in range(dim)]\n",
        "  best_swarm_fitnessVal = sys.float_info.max # swarm best\n",
        " \n",
        "  # computer best particle of swarm and it's fitness\n",
        "  for i in range(n): # check each particle\n",
        "    if swarm[i].fitness < best_swarm_fitnessVal:\n",
        "      best_swarm_fitnessVal = swarm[i].fitness\n",
        "      best_swarm_pos = copy.copy(swarm[i].position)\n",
        "  fitnesses=[]\n",
        "  # main loop of pso\n",
        "  Iter = 0\n",
        "  while Iter < max_iter:\n",
        "     \n",
        "    # after every 10 iterations\n",
        "    # print iteration number and best fitness value so far\n",
        "    if Iter % 10 == 0 and Iter > 1:\n",
        "      print(\"Iter = \" + str(Iter) + \" best fitness = %.3f\" % best_swarm_fitnessVal)\n",
        "    fitnesses.append(best_swarm_fitnessVal)\n",
        "    for i in range(n): # process each particle\n",
        "       \n",
        "      # compute new velocity of curr particle\n",
        "      for k in range(dim):\n",
        "        r1 = rnd.random()    # randomizations\n",
        "        r2 = rnd.random()\n",
        "     \n",
        "        swarm[i].velocity[k] = (\n",
        "                                 (w * swarm[i].velocity[k]) +\n",
        "                                 (c1 * r1 * (swarm[i].best_part_pos[k] - swarm[i].position[k])) + \n",
        "                                 (c2 * r2 * (best_swarm_pos[k] -swarm[i].position[k]))\n",
        "                               ) \n",
        " \n",
        " \n",
        "        # if velocity[k] is not in [minx, max]\n",
        "        # then clip it\n",
        "        if swarm[i].velocity[k] < minx:\n",
        "          swarm[i].velocity[k] = minx\n",
        "        elif swarm[i].velocity[k] > maxx:\n",
        "          swarm[i].velocity[k] = maxx\n",
        " \n",
        " \n",
        "      # compute new position using new velocity\n",
        "      for k in range(dim):\n",
        "        swarm[i].position[k] += swarm[i].velocity[k]\n",
        "   \n",
        "      # compute fitness of new position\n",
        "      swarm[i].fitness = fitness(swarm[i].position)\n",
        " \n",
        "      # is new position a new best for the particle?\n",
        "      if swarm[i].fitness < swarm[i].best_part_fitnessVal:\n",
        "        swarm[i].best_part_fitnessVal = swarm[i].fitness\n",
        "        swarm[i].best_part_pos = copy.copy(swarm[i].position)\n",
        " \n",
        "      # is new position a new best overall?\n",
        "      if swarm[i].fitness < best_swarm_fitnessVal:\n",
        "        best_swarm_fitnessVal = swarm[i].fitness\n",
        "        best_swarm_pos = copy.copy(swarm[i].position)\n",
        "     \n",
        "    # for-each particle\n",
        "    Iter += 1\n",
        "  #end_while\n",
        "  return best_swarm_pos,fitnesses\n",
        "# end pso"
      ]
    },
    {
      "cell_type": "code",
      "execution_count": null,
      "metadata": {
        "id": "a31pMAML9K13"
      },
      "outputs": [],
      "source": [
        "def fitness_rastrigin(position):\n",
        "  fitnessVal = 0.0\n",
        "  for i in range(len(position)):\n",
        "    xi = position[i]\n",
        "    fitnessVal += (xi * xi) - (10 * math.cos(2 * math.pi * xi)) + 10\n",
        "  return fitnessVal"
      ]
    },
    {
      "cell_type": "markdown",
      "metadata": {
        "id": "OKYEBor6Arpl"
      },
      "source": [
        "# SA"
      ]
    },
    {
      "cell_type": "code",
      "execution_count": null,
      "metadata": {
        "id": "Q44pQo6FAtCo"
      },
      "outputs": [],
      "source": [
        "# simulated annealing search of a one-dimensional objective function\n",
        "\n",
        "from numpy import asarray\n",
        "from numpy import exp\n",
        "from numpy.random import randn\n",
        "from numpy.random import rand\n",
        "from numpy.random import seed\n",
        "\n",
        "from numpy.random import rand\n",
        "\n",
        "\n",
        "# simulated annealing algorithm\n",
        "def simulated_annealing(objective, bounds, n_iterations, step_size, temp):\n",
        "\t# generate an initial point\n",
        "\tbest = bounds[:, 0] + rand(len(bounds)) * (bounds[:, 1] - bounds[:, 0])\n",
        "\t# evaluate the initial point\n",
        "\tbest_eval = objective(best)\n",
        "\t# current working solution\n",
        "\tcurr, curr_eval = best, best_eval\n",
        "\tscores = list()\n",
        "\t# run the algorithm\n",
        "\tfor i in range(n_iterations):\n",
        "\t\t# take a step\n",
        "\t\tcandidate = curr + randn(len(bounds)) * step_size\n",
        "\t\t# evaluate candidate point\n",
        "\t\tcandidate_eval = objective(candidate)\n",
        "\t\t# check for new best solution\n",
        "\t\tif candidate_eval < best_eval:\n",
        "\t\t\t# store new best point\n",
        "\t\t\tbest, best_eval = candidate, candidate_eval\n",
        "\t\t\t# keep track of scores\n",
        "\t\tscores.append(best_eval)\n",
        "\t\t\t# report progress\n",
        "\t\t\t# print('>%d f(%s) = %.5f' % (i, best, best_eval))\n",
        "\t\t# difference between candidate and current point evaluation\n",
        "\t\tdiff = candidate_eval - curr_eval\n",
        "\t\t# calculate temperature for current epoch\n",
        "\t\tt = temp / float(i + 1)\n",
        "\t\t# calculate metropolis acceptance criterion\n",
        "\t\tmetropolis = exp(-diff / t)\n",
        "\t\t# check if we should keep the new point\n",
        "\t\tif diff < 0 or rand() < metropolis:\n",
        "\t\t\t# store the new current point\n",
        "\t\t\tcurr, curr_eval = candidate, candidate_eval\n",
        "\treturn [best, best_eval, scores]\n",
        "\n",
        "\n"
      ]
    },
    {
      "cell_type": "markdown",
      "metadata": {
        "id": "-4YGP4CUDd_8"
      },
      "source": [
        "# GSA"
      ]
    },
    {
      "cell_type": "code",
      "execution_count": null,
      "metadata": {
        "id": "mYr8_P6yDflE"
      },
      "outputs": [],
      "source": [
        "\n",
        "import random\n",
        "import numpy\n",
        "import math\n",
        "# from solution import solution\n",
        "import time\n",
        "\n",
        "\n",
        "def massCalculation(fit,PopSize,M):\n",
        "    Fmax = max(fit)\n",
        "    Fmin = min(fit)\n",
        "    Fsum = sum(fit)        \n",
        "    Fmean = Fsum/len(fit)\n",
        "        \n",
        "    if Fmax == Fmin:\n",
        "        M = numpy.ones(PopSize)\n",
        "    else:\n",
        "        best = Fmin\n",
        "        worst = Fmax\n",
        "        \n",
        "        for p in range(0,PopSize):\n",
        "           M[p] = (fit[p]-worst)/(best-worst)\n",
        "            \n",
        "    Msum=sum(M)\n",
        "    for q in range(0,PopSize):\n",
        "        M[q] = M[q]/Msum\n",
        "            \n",
        "    return M\n",
        "\n",
        "\n",
        "import numpy\n",
        "import random\n",
        "import math\n",
        "\n",
        "def gField(PopSize,dim,pos,M,l,iters,G,ElitistCheck,Rpower):\n",
        "    final_per = 2\n",
        "    if ElitistCheck == 1:\n",
        "        kbest = final_per + (1-l/iters)*(100-final_per)\n",
        "        kbest = round(PopSize*kbest/100)\n",
        "    else:\n",
        "        kbest = PopSize\n",
        "            \n",
        "    kbest = int(kbest)\n",
        "    ds = sorted(range(len(M)), key=lambda k: M[k],reverse=True)\n",
        "        \n",
        "    Force = numpy.zeros((PopSize,dim))\n",
        "    # Force = Force.astype(int)\n",
        "    \n",
        "    for r in range(0,PopSize):\n",
        "        for ii in range(0,kbest):\n",
        "            z = ds[ii]\n",
        "            R = 0\n",
        "            if z != r:                    \n",
        "                x=pos[r,:]\n",
        "                y=pos[z,:]\n",
        "                esum=0\n",
        "                imval = 0\n",
        "                for t in range(0,dim):\n",
        "                    imval = ((x[t] - y[t])** 2)\n",
        "                    esum = esum + imval\n",
        "                    \n",
        "                R = math.sqrt(esum)\n",
        "                \n",
        "                for k in range(0,dim):\n",
        "                    randnum=random.random()\n",
        "                    Force[r,k] = Force[r,k]+randnum*(M[z])*((pos[z,k]-pos[r,k])/(R**Rpower+numpy.finfo(float).eps))\n",
        "                    \n",
        "    acc = numpy.zeros((PopSize,dim))\n",
        "    for x in range(0,PopSize):\n",
        "        for y in range (0,dim):\n",
        "            acc[x,y]=Force[x,y]*G\n",
        "    return acc\n",
        "\n",
        "\n",
        "import random\n",
        "\n",
        "def move(PopSize,dim,pos,vel,acc):\n",
        "    for i in range(0,PopSize):\n",
        "        for j in range (0,dim):\n",
        "            r1=random.random()\n",
        "#           r2=random.random()\n",
        "            vel[i,j]=r1*vel[i,j]+acc[i,j]\n",
        "            pos[i,j]=pos[i,j]+vel[i,j]\n",
        "    \n",
        "    return pos, vel\n",
        "\n",
        "def gConstant(l,iters):\n",
        "    alfa = 20\n",
        "    G0 = 100\n",
        "    Gimd = numpy.exp(-alfa*float(l)/iters)\n",
        "    G = G0*Gimd\n",
        "    return G\n",
        "\n",
        "        \n",
        "def GSA(objf,lb,ub,dim,PopSize,iters):\n",
        "    # GSA parameters\n",
        "    ElitistCheck =1\n",
        "    Rpower = 1 \n",
        "     \n",
        "    # s=solution()\n",
        "        \n",
        "    \"\"\" Initializations \"\"\"\n",
        "    \n",
        "    vel=numpy.zeros((PopSize,dim))\n",
        "    fit = numpy.zeros(PopSize)\n",
        "    M = numpy.zeros(PopSize)\n",
        "    gBest=numpy.zeros(dim)\n",
        "    gBestScore=float(\"inf\")\n",
        "    \n",
        "    pos=numpy.random.uniform(0,1,(PopSize,dim)) *(ub-lb)+lb\n",
        "    \n",
        "    convergence_curve=numpy.zeros(iters)\n",
        "    \n",
        "    # print(\"GSA is optimizing  \\\"\"+objf.__name__+\"\\\"\")    \n",
        "    \n",
        "    timerStart=time.time() \n",
        "    # s.startTime=time.strftime(\"%Y-%m-%d-%H-%M-%S\")\n",
        "    fitnesses=[]\n",
        "    for l in range(0,iters):\n",
        "        for i in range(0,PopSize):\n",
        "            l1 = [None] * dim\n",
        "            l1=numpy.clip(pos[i,:], lb, ub)\n",
        "            pos[i,:]=l1\n",
        "\n",
        "            #Calculate objective function for each particle\n",
        "            fitness=[]\n",
        "            fitness=objf(l1)\n",
        "            fit[i]=fitness\n",
        "    \n",
        "                \n",
        "            if(gBestScore>fitness):\n",
        "                gBestScore=fitness\n",
        "                gBest=l1           \n",
        "        \n",
        "        \"\"\" Calculating Mass \"\"\"\n",
        "        M = massCalculation(fit,PopSize,M)\n",
        "\n",
        "        \"\"\" Calculating Gravitational Constant \"\"\"        \n",
        "        G = gConstant(l,iters)        \n",
        "        \n",
        "        \"\"\" Calculating Gfield \"\"\"        \n",
        "        acc = gField(PopSize,dim,pos,M,l,iters,G,ElitistCheck,Rpower)\n",
        "        \n",
        "        \"\"\" Calculating Position \"\"\"        \n",
        "        pos, vel = move(PopSize,dim,pos,vel,acc)\n",
        "        \n",
        "        convergence_curve[l]=gBestScore\n",
        "      \n",
        "        if (l%1==0):\n",
        "              #  print(['At iteration '+ str(l+1)+ ' the best fitness is '+ str(gBestScore)]);\n",
        "               fitnesses.append(gBestScore)\n",
        "    # timerEnd=time.time()  \n",
        "    # s.endTime=time.strftime(\"%Y-%m-%d-%H-%M-%S\")\n",
        "    # s.executionTime=timerEnd-timerStart\n",
        "    # s.convergence=convergence_curve\n",
        "    # s.Algorithm=\"GSA\"\n",
        "    # s.objectivefunc=objf.__name__\n",
        "\n",
        "    return fitnesses"
      ]
    },
    {
      "cell_type": "code",
      "execution_count": null,
      "metadata": {
        "id": "OhoKF781LN6D"
      },
      "outputs": [],
      "source": [
        "best_fitness_GSA=GSA(sphere1,-100,100,30,20,500)"
      ]
    },
    {
      "cell_type": "markdown",
      "metadata": {
        "id": "iDEz_IXVnMF3"
      },
      "source": [
        "# Rastrigin"
      ]
    },
    {
      "cell_type": "code",
      "execution_count": null,
      "metadata": {
        "id": "0T_k-gOInQez"
      },
      "outputs": [],
      "source": [
        "dim=30\n",
        "ns=2*dim\n",
        "ne=25\n",
        "etha=.05\n",
        "alpha1,betta1=.9,.3\n",
        "alpha2,betta2=.2,.8\n",
        "lb = -5.12;ub = 5.12;\n",
        "distance_from_worst_threshold=10\n",
        "distance_from_crowding_threshold=10\n",
        "pop_size= 20;\n",
        "\n",
        "ph=.2\n",
        "max_iteration = 500"
      ]
    },
    {
      "cell_type": "markdown",
      "metadata": {
        "id": "iv1hyLStnSMb"
      },
      "source": [
        "## WHO"
      ]
    },
    {
      "cell_type": "code",
      "execution_count": null,
      "metadata": {
        "colab": {
          "base_uri": "https://localhost:8080/",
          "height": 677
        },
        "id": "pebVT1wQnQez",
        "outputId": "05b1819a-5275-41b4-95a9-da03d5ed07ef"
      },
      "outputs": [
        {
          "data": {
            "text/html": [
              "\n",
              "  <div id=\"df-f5ba7cac-c284-4c95-8dc3-87fc425df718\">\n",
              "    <div class=\"colab-df-container\">\n",
              "      <div>\n",
              "<style scoped>\n",
              "    .dataframe tbody tr th:only-of-type {\n",
              "        vertical-align: middle;\n",
              "    }\n",
              "\n",
              "    .dataframe tbody tr th {\n",
              "        vertical-align: top;\n",
              "    }\n",
              "\n",
              "    .dataframe thead th {\n",
              "        text-align: right;\n",
              "    }\n",
              "</style>\n",
              "<table border=\"1\" class=\"dataframe\">\n",
              "  <thead>\n",
              "    <tr style=\"text-align: right;\">\n",
              "      <th></th>\n",
              "      <th>x_p</th>\n",
              "      <th>c_p</th>\n",
              "    </tr>\n",
              "  </thead>\n",
              "  <tbody>\n",
              "    <tr>\n",
              "      <th>0</th>\n",
              "      <td>[-4.42205311758196, 1.2750006934978275, 4.6415...</td>\n",
              "      <td>633.487808</td>\n",
              "    </tr>\n",
              "    <tr>\n",
              "      <th>1</th>\n",
              "      <td>[1.7226515336636465, 2.356193898902583, -4.827...</td>\n",
              "      <td>578.658946</td>\n",
              "    </tr>\n",
              "    <tr>\n",
              "      <th>2</th>\n",
              "      <td>[0.7893852731566229, -4.6295495568063325, 1.17...</td>\n",
              "      <td>549.301816</td>\n",
              "    </tr>\n",
              "    <tr>\n",
              "      <th>3</th>\n",
              "      <td>[-2.620188163361646, -3.6405116107171533, -4.4...</td>\n",
              "      <td>656.932084</td>\n",
              "    </tr>\n",
              "    <tr>\n",
              "      <th>4</th>\n",
              "      <td>[-0.9662326061333522, -3.4487714486561405, 3.5...</td>\n",
              "      <td>615.431126</td>\n",
              "    </tr>\n",
              "    <tr>\n",
              "      <th>5</th>\n",
              "      <td>[4.980760526098215, -0.11641468726605275, -0.4...</td>\n",
              "      <td>559.758673</td>\n",
              "    </tr>\n",
              "    <tr>\n",
              "      <th>6</th>\n",
              "      <td>[2.829218431565373, -0.5073589833340533, -4.60...</td>\n",
              "      <td>565.340073</td>\n",
              "    </tr>\n",
              "    <tr>\n",
              "      <th>7</th>\n",
              "      <td>[4.199460600625122, -4.661735146963025, 2.2538...</td>\n",
              "      <td>572.434414</td>\n",
              "    </tr>\n",
              "    <tr>\n",
              "      <th>8</th>\n",
              "      <td>[4.311779832675957, 5.086027592890029, -1.2846...</td>\n",
              "      <td>628.327009</td>\n",
              "    </tr>\n",
              "    <tr>\n",
              "      <th>9</th>\n",
              "      <td>[-1.3897727003087756, 0.49877518973505097, 1.7...</td>\n",
              "      <td>514.813876</td>\n",
              "    </tr>\n",
              "    <tr>\n",
              "      <th>10</th>\n",
              "      <td>[3.7591130509278647, 4.301048071422886, -3.418...</td>\n",
              "      <td>673.098315</td>\n",
              "    </tr>\n",
              "    <tr>\n",
              "      <th>11</th>\n",
              "      <td>[-3.2857630220349225, 3.428623976972953, 1.526...</td>\n",
              "      <td>580.266578</td>\n",
              "    </tr>\n",
              "    <tr>\n",
              "      <th>12</th>\n",
              "      <td>[0.10902640200672753, 2.6178791796655023, 3.28...</td>\n",
              "      <td>573.619183</td>\n",
              "    </tr>\n",
              "    <tr>\n",
              "      <th>13</th>\n",
              "      <td>[-4.696985303592644, 3.357687855957889, 3.7759...</td>\n",
              "      <td>538.994240</td>\n",
              "    </tr>\n",
              "    <tr>\n",
              "      <th>14</th>\n",
              "      <td>[-3.927833237057367, -3.9866041555985143, 1.27...</td>\n",
              "      <td>617.968625</td>\n",
              "    </tr>\n",
              "    <tr>\n",
              "      <th>15</th>\n",
              "      <td>[2.8787594886276375, 0.6251660927675724, -3.90...</td>\n",
              "      <td>640.825013</td>\n",
              "    </tr>\n",
              "    <tr>\n",
              "      <th>16</th>\n",
              "      <td>[-2.2972501066323323, 0.2449941452165696, -2.5...</td>\n",
              "      <td>445.218602</td>\n",
              "    </tr>\n",
              "    <tr>\n",
              "      <th>17</th>\n",
              "      <td>[-4.725132015961781, 4.76944201727959, -1.7995...</td>\n",
              "      <td>556.864859</td>\n",
              "    </tr>\n",
              "    <tr>\n",
              "      <th>18</th>\n",
              "      <td>[4.43877831686699, 4.262195206025749, 2.434472...</td>\n",
              "      <td>608.654451</td>\n",
              "    </tr>\n",
              "    <tr>\n",
              "      <th>19</th>\n",
              "      <td>[1.4319134299032772, 1.2503292606801928, -1.85...</td>\n",
              "      <td>586.831862</td>\n",
              "    </tr>\n",
              "  </tbody>\n",
              "</table>\n",
              "</div>\n",
              "      <button class=\"colab-df-convert\" onclick=\"convertToInteractive('df-f5ba7cac-c284-4c95-8dc3-87fc425df718')\"\n",
              "              title=\"Convert this dataframe to an interactive table.\"\n",
              "              style=\"display:none;\">\n",
              "        \n",
              "  <svg xmlns=\"http://www.w3.org/2000/svg\" height=\"24px\"viewBox=\"0 0 24 24\"\n",
              "       width=\"24px\">\n",
              "    <path d=\"M0 0h24v24H0V0z\" fill=\"none\"/>\n",
              "    <path d=\"M18.56 5.44l.94 2.06.94-2.06 2.06-.94-2.06-.94-.94-2.06-.94 2.06-2.06.94zm-11 1L8.5 8.5l.94-2.06 2.06-.94-2.06-.94L8.5 2.5l-.94 2.06-2.06.94zm10 10l.94 2.06.94-2.06 2.06-.94-2.06-.94-.94-2.06-.94 2.06-2.06.94z\"/><path d=\"M17.41 7.96l-1.37-1.37c-.4-.4-.92-.59-1.43-.59-.52 0-1.04.2-1.43.59L10.3 9.45l-7.72 7.72c-.78.78-.78 2.05 0 2.83L4 21.41c.39.39.9.59 1.41.59.51 0 1.02-.2 1.41-.59l7.78-7.78 2.81-2.81c.8-.78.8-2.07 0-2.86zM5.41 20L4 18.59l7.72-7.72 1.47 1.35L5.41 20z\"/>\n",
              "  </svg>\n",
              "      </button>\n",
              "      \n",
              "  <style>\n",
              "    .colab-df-container {\n",
              "      display:flex;\n",
              "      flex-wrap:wrap;\n",
              "      gap: 12px;\n",
              "    }\n",
              "\n",
              "    .colab-df-convert {\n",
              "      background-color: #E8F0FE;\n",
              "      border: none;\n",
              "      border-radius: 50%;\n",
              "      cursor: pointer;\n",
              "      display: none;\n",
              "      fill: #1967D2;\n",
              "      height: 32px;\n",
              "      padding: 0 0 0 0;\n",
              "      width: 32px;\n",
              "    }\n",
              "\n",
              "    .colab-df-convert:hover {\n",
              "      background-color: #E2EBFA;\n",
              "      box-shadow: 0px 1px 2px rgba(60, 64, 67, 0.3), 0px 1px 3px 1px rgba(60, 64, 67, 0.15);\n",
              "      fill: #174EA6;\n",
              "    }\n",
              "\n",
              "    [theme=dark] .colab-df-convert {\n",
              "      background-color: #3B4455;\n",
              "      fill: #D2E3FC;\n",
              "    }\n",
              "\n",
              "    [theme=dark] .colab-df-convert:hover {\n",
              "      background-color: #434B5C;\n",
              "      box-shadow: 0px 1px 3px 1px rgba(0, 0, 0, 0.15);\n",
              "      filter: drop-shadow(0px 1px 2px rgba(0, 0, 0, 0.3));\n",
              "      fill: #FFFFFF;\n",
              "    }\n",
              "  </style>\n",
              "\n",
              "      <script>\n",
              "        const buttonEl =\n",
              "          document.querySelector('#df-f5ba7cac-c284-4c95-8dc3-87fc425df718 button.colab-df-convert');\n",
              "        buttonEl.style.display =\n",
              "          google.colab.kernel.accessAllowed ? 'block' : 'none';\n",
              "\n",
              "        async function convertToInteractive(key) {\n",
              "          const element = document.querySelector('#df-f5ba7cac-c284-4c95-8dc3-87fc425df718');\n",
              "          const dataTable =\n",
              "            await google.colab.kernel.invokeFunction('convertToInteractive',\n",
              "                                                     [key], {});\n",
              "          if (!dataTable) return;\n",
              "\n",
              "          const docLinkHtml = 'Like what you see? Visit the ' +\n",
              "            '<a target=\"_blank\" href=https://colab.research.google.com/notebooks/data_table.ipynb>data table notebook</a>'\n",
              "            + ' to learn more about interactive tables.';\n",
              "          element.innerHTML = '';\n",
              "          dataTable['output_type'] = 'display_data';\n",
              "          await google.colab.output.renderOutput(dataTable, element);\n",
              "          const docLink = document.createElement('div');\n",
              "          docLink.innerHTML = docLinkHtml;\n",
              "          element.appendChild(docLink);\n",
              "        }\n",
              "      </script>\n",
              "    </div>\n",
              "  </div>\n",
              "  "
            ],
            "text/plain": [
              "                                                  x_p         c_p\n",
              "0   [-4.42205311758196, 1.2750006934978275, 4.6415...  633.487808\n",
              "1   [1.7226515336636465, 2.356193898902583, -4.827...  578.658946\n",
              "2   [0.7893852731566229, -4.6295495568063325, 1.17...  549.301816\n",
              "3   [-2.620188163361646, -3.6405116107171533, -4.4...  656.932084\n",
              "4   [-0.9662326061333522, -3.4487714486561405, 3.5...  615.431126\n",
              "5   [4.980760526098215, -0.11641468726605275, -0.4...  559.758673\n",
              "6   [2.829218431565373, -0.5073589833340533, -4.60...  565.340073\n",
              "7   [4.199460600625122, -4.661735146963025, 2.2538...  572.434414\n",
              "8   [4.311779832675957, 5.086027592890029, -1.2846...  628.327009\n",
              "9   [-1.3897727003087756, 0.49877518973505097, 1.7...  514.813876\n",
              "10  [3.7591130509278647, 4.301048071422886, -3.418...  673.098315\n",
              "11  [-3.2857630220349225, 3.428623976972953, 1.526...  580.266578\n",
              "12  [0.10902640200672753, 2.6178791796655023, 3.28...  573.619183\n",
              "13  [-4.696985303592644, 3.357687855957889, 3.7759...  538.994240\n",
              "14  [-3.927833237057367, -3.9866041555985143, 1.27...  617.968625\n",
              "15  [2.8787594886276375, 0.6251660927675724, -3.90...  640.825013\n",
              "16  [-2.2972501066323323, 0.2449941452165696, -2.5...  445.218602\n",
              "17  [-4.725132015961781, 4.76944201727959, -1.7995...  556.864859\n",
              "18  [4.43877831686699, 4.262195206025749, 2.434472...  608.654451\n",
              "19  [1.4319134299032772, 1.2503292606801928, -1.85...  586.831862"
            ]
          },
          "execution_count": 11,
          "metadata": {},
          "output_type": "execute_result"
        }
      ],
      "source": [
        "population = create_population(pop_size,lb,ub,dim)\n",
        "cp=calculate_fitnesses(population)\n",
        "xp_cp_dataframe = pd.DataFrame({'x_p':population.tolist(),'c_p':cp.tolist()})\n",
        "xp_cp_dataframe"
      ]
    },
    {
      "cell_type": "code",
      "execution_count": null,
      "metadata": {
        "colab": {
          "base_uri": "https://localhost:8080/"
        },
        "id": "KFfj_3h8nQez",
        "outputId": "c553a539-a309-4cd1-f365-5b1f085a978b"
      },
      "outputs": [
        {
          "name": "stdout",
          "output_type": "stream",
          "text": [
            "iteration # 0\n",
            "iteration # 100\n",
            "iteration # 200\n",
            "iteration # 300\n",
            "iteration # 400\n"
          ]
        }
      ],
      "source": [
        "best_fitness_list=wildbeast_optimizaiton(xp_cp_dataframe,ns,dim,etha,distance_from_crowding_threshold,distance_from_worst_threshold,ne,ph,alpha1,betta1,alpha2,betta2,function='rastrigin')"
      ]
    },
    {
      "cell_type": "markdown",
      "metadata": {
        "id": "rQH-xjTenU44"
      },
      "source": [
        "## PSO"
      ]
    },
    {
      "cell_type": "code",
      "execution_count": null,
      "metadata": {
        "colab": {
          "base_uri": "https://localhost:8080/"
        },
        "id": "y0yIqryl77td",
        "outputId": "3da2555c-e8fe-44ff-d722-f011d111836b"
      },
      "outputs": [
        {
          "name": "stdout",
          "output_type": "stream",
          "text": [
            "Iter = 10 best fitness = 390.318\n",
            "Iter = 20 best fitness = 291.358\n",
            "Iter = 30 best fitness = 290.281\n",
            "Iter = 40 best fitness = 214.697\n",
            "Iter = 50 best fitness = 197.755\n",
            "Iter = 60 best fitness = 162.933\n",
            "Iter = 70 best fitness = 131.948\n",
            "Iter = 80 best fitness = 118.128\n",
            "Iter = 90 best fitness = 101.725\n",
            "Iter = 100 best fitness = 96.073\n",
            "Iter = 110 best fitness = 92.011\n",
            "Iter = 120 best fitness = 88.857\n",
            "Iter = 130 best fitness = 83.343\n",
            "Iter = 140 best fitness = 79.490\n",
            "Iter = 150 best fitness = 79.007\n",
            "Iter = 160 best fitness = 77.960\n",
            "Iter = 170 best fitness = 76.978\n",
            "Iter = 180 best fitness = 76.020\n",
            "Iter = 190 best fitness = 75.608\n",
            "Iter = 200 best fitness = 75.032\n",
            "Iter = 210 best fitness = 74.650\n",
            "Iter = 220 best fitness = 74.531\n",
            "Iter = 230 best fitness = 74.327\n",
            "Iter = 240 best fitness = 74.211\n",
            "Iter = 250 best fitness = 73.919\n",
            "Iter = 260 best fitness = 73.894\n",
            "Iter = 270 best fitness = 73.741\n",
            "Iter = 280 best fitness = 73.701\n",
            "Iter = 290 best fitness = 73.674\n",
            "Iter = 300 best fitness = 73.658\n",
            "Iter = 310 best fitness = 73.648\n",
            "Iter = 320 best fitness = 73.642\n",
            "Iter = 330 best fitness = 73.635\n",
            "Iter = 340 best fitness = 73.633\n",
            "Iter = 350 best fitness = 73.631\n",
            "Iter = 360 best fitness = 73.630\n",
            "Iter = 370 best fitness = 73.630\n",
            "Iter = 380 best fitness = 73.629\n",
            "Iter = 390 best fitness = 73.629\n",
            "Iter = 400 best fitness = 73.628\n",
            "Iter = 410 best fitness = 73.628\n",
            "Iter = 420 best fitness = 73.628\n",
            "Iter = 430 best fitness = 73.627\n",
            "Iter = 440 best fitness = 73.627\n",
            "Iter = 450 best fitness = 73.627\n",
            "Iter = 460 best fitness = 73.627\n",
            "Iter = 470 best fitness = 73.627\n",
            "Iter = 480 best fitness = 73.627\n",
            "Iter = 490 best fitness = 73.627\n"
          ]
        }
      ],
      "source": [
        "best_position,pso_best_fitnesses = pso(fitness_rastrigin, max_iteration, pop_size, dim, lb,ub)"
      ]
    },
    {
      "cell_type": "markdown",
      "metadata": {
        "id": "7ir5kk3pnx9P"
      },
      "source": [
        "## GA"
      ]
    },
    {
      "cell_type": "code",
      "execution_count": null,
      "metadata": {
        "id": "v-QiIH-xn0VR"
      },
      "outputs": [],
      "source": [
        "\n",
        "\n",
        "def f(X):\n",
        "\n",
        "    dim=len(X)         \n",
        "\n",
        "    OF=0\n",
        "    for i in range (0,dim):\n",
        "        OF+=(X[i]**2)-10*math.cos(2*math.pi*X[i])+10\n",
        "\n",
        "    return OF\n",
        "\n",
        "algorithm_param = {'max_num_iteration': 500,\n",
        "                   'population_size':20}\n",
        "\n",
        "varbound=np.array([[-5.12,5.12]]*dim)\n",
        "\n",
        "model=ga(function=f,dimension=dim,variable_type='real',variable_boundaries=varbound)\n",
        "\n",
        "model.run()\n",
        "best_fitnesses_GA=model.report[:500]"
      ]
    },
    {
      "cell_type": "markdown",
      "metadata": {
        "id": "Z7EwMqKKIyGJ"
      },
      "source": [
        "## SA"
      ]
    },
    {
      "cell_type": "code",
      "execution_count": null,
      "metadata": {
        "colab": {
          "base_uri": "https://localhost:8080/"
        },
        "id": "c5ztmWQqIu_i",
        "outputId": "18f05575-8b3d-4eea-fb69-a84a8baeff7c"
      },
      "outputs": [
        {
          "name": "stdout",
          "output_type": "stream",
          "text": [
            "Done!\n"
          ]
        }
      ],
      "source": [
        "# seed the pseudorandom number generator\n",
        "seed(1)\n",
        "# define range for input\n",
        "bounds = asarray([[-5.12,5.12]]*30)\n",
        "# define the total iterations\n",
        "n_iterations = 500\n",
        "# define the maximum step size\n",
        "step_size = .1\n",
        "# initial temperature\n",
        "temp = 10\n",
        "# perform the simulated annealing search\n",
        "best, score, best_fitness_SA = simulated_annealing(rastrigin, bounds, n_iterations, step_size, temp)\n",
        "print('Done!')\n",
        "# print('f(%s) = %f' % (best, score))\n"
      ]
    },
    {
      "cell_type": "markdown",
      "metadata": {
        "id": "pkXZNcOFSB0P"
      },
      "source": [
        "## GSA"
      ]
    },
    {
      "cell_type": "code",
      "execution_count": null,
      "metadata": {
        "id": "tRCQLJUeSB0P"
      },
      "outputs": [],
      "source": [
        "best_fitness_GSA=GSA(rastrigin,lb,ub,30,20,500)"
      ]
    },
    {
      "cell_type": "markdown",
      "metadata": {
        "id": "ZXwg0k56Zkms"
      },
      "source": [
        "## plot Rastrigin"
      ]
    },
    {
      "cell_type": "code",
      "execution_count": null,
      "metadata": {
        "id": "wlyV5zt5Iu_j"
      },
      "outputs": [],
      "source": [
        "df=pd.read_csv((\"/content/drive/MyDrive/EC project/rastrigin_EC_proj_df\"))\n",
        "best_fitness_WHO=df.WHO;best_fitness_pso=df.PSO;best_fitness_GA=df.GA"
      ]
    },
    {
      "cell_type": "code",
      "execution_count": null,
      "metadata": {
        "colab": {
          "base_uri": "https://localhost:8080/",
          "height": 621
        },
        "id": "W9PjCZG29f2A",
        "outputId": "825dace7-024c-492d-e62c-cc1bd17f3307"
      },
      "outputs": [
        {
          "data": {
            "image/png": "[encoded data removed]",
            "text/plain": [
              "<Figure size 1080x720 with 1 Axes>"
            ]
          },
          "metadata": {},
          "output_type": "display_data"
        }
      ],
      "source": [
        "plt.figure(figsize=(15, 10))\n",
        "\n",
        "plt.plot(range(len(best_fitness_WHO)),best_fitness_WHO)\n",
        "plt.plot(range(len(best_fitness_pso)),best_fitness_pso)\n",
        "\n",
        "plt.plot(range(len(best_fitness_GA)),best_fitness_GA)\n",
        "\n",
        "plt.plot(range(len(best_fitness_SA)),best_fitness_SA)\n",
        "plt.plot(range(len(best_fitness_GSA)),best_fitness_GSA)\n",
        "\n",
        "plt.legend([\"WHO\",\"PSO\",\"GA\",\"SA\",\"GSA\"])\n",
        "plt.xlabel(\"iteration\")\n",
        "plt.ylabel(\"Objective Function\")\n",
        "plt.title(\"Rastrigin\")\n",
        "plt.show()"
      ]
    },
    {
      "cell_type": "code",
      "execution_count": null,
      "metadata": {
        "id": "GYHP2aFOFY8e"
      },
      "outputs": [],
      "source": [
        "df=pd.DataFrame({\"WHO\":best_fitness_list,\"PSO\":pso_best_fitnesses,\"GA\":best_fitnesses_GA})\n",
        "# df.to_csv(\"/content/drive/MyDrive/EC project/rastrigin_EC_proj_df\")"
      ]
    },
    {
      "cell_type": "markdown",
      "metadata": {
        "id": "u7dDIyAjfe2F"
      },
      "source": [
        "# Ackley"
      ]
    },
    {
      "cell_type": "code",
      "execution_count": null,
      "metadata": {
        "id": "VV_Ip43JfrnA"
      },
      "outputs": [],
      "source": [
        "def ackley(X):\n",
        "\n",
        "    dim=len(X)\n",
        "\n",
        "    t1=0\n",
        "    t2=0\n",
        "    for i in range (0,dim):\n",
        "        t1+=X[i]**2\n",
        "        t2+=math.cos(2*math.pi*X[i])     \n",
        "\n",
        "    OF=20+math.e-20*math.exp((t1/dim)*-0.2)-math.exp(t2/dim)\n",
        "\n",
        "    return OF"
      ]
    },
    {
      "cell_type": "code",
      "execution_count": null,
      "metadata": {
        "id": "6Y-lDb01f9e0"
      },
      "outputs": [],
      "source": [
        "lb=-32.768;ub=32.768\n",
        "dim=30\n",
        "varbound=np.array([[lb,ub]]*dim)"
      ]
    },
    {
      "cell_type": "code",
      "execution_count": null,
      "metadata": {
        "colab": {
          "base_uri": "https://localhost:8080/"
        },
        "id": "J7_jPN5kf4C8",
        "outputId": "f400839b-f381-48ca-e142-52f9868e1256"
      },
      "outputs": [
        {
          "name": "stdout",
          "output_type": "stream",
          "text": [
            "iteration # 0\n",
            "iteration # 100\n",
            "iteration # 200\n",
            "iteration # 300\n",
            "iteration # 400\n"
          ]
        }
      ],
      "source": [
        "population = create_population(pop_size,lb,ub,dim)\n",
        "cp=calculate_fitnesses(population,\"ackley\")\n",
        "xp_cp_dataframe = pd.DataFrame({'x_p':population.tolist(),'c_p':cp.tolist()})\n",
        "best_fitness_WHO=wildbeast_optimizaiton(xp_cp_dataframe,ns,dim,etha,distance_from_crowding_threshold,distance_from_worst_threshold,ne,ph,alpha1,betta1,alpha2,betta2,function='ackley')"
      ]
    },
    {
      "cell_type": "markdown",
      "metadata": {
        "id": "mzh0YqWyn9Uh"
      },
      "source": [
        "## PSO"
      ]
    },
    {
      "cell_type": "code",
      "execution_count": null,
      "metadata": {
        "colab": {
          "base_uri": "https://localhost:8080/"
        },
        "id": "mJ5LSSPffhR_",
        "outputId": "fc60c66a-3ed4-4be4-c9f1-f67761213373"
      },
      "outputs": [
        {
          "name": "stdout",
          "output_type": "stream",
          "text": [
            "Iter = 10 best fitness = 21.297\n",
            "Iter = 20 best fitness = 21.230\n",
            "Iter = 30 best fitness = 21.230\n",
            "Iter = 40 best fitness = 21.230\n",
            "Iter = 50 best fitness = 21.109\n",
            "Iter = 60 best fitness = 21.100\n",
            "Iter = 70 best fitness = 21.100\n",
            "Iter = 80 best fitness = 21.100\n",
            "Iter = 90 best fitness = 21.083\n",
            "Iter = 100 best fitness = 21.083\n",
            "Iter = 110 best fitness = 21.034\n",
            "Iter = 120 best fitness = 21.024\n",
            "Iter = 130 best fitness = 20.964\n",
            "Iter = 140 best fitness = 20.964\n",
            "Iter = 150 best fitness = 20.935\n",
            "Iter = 160 best fitness = 20.924\n",
            "Iter = 170 best fitness = 20.924\n",
            "Iter = 180 best fitness = 20.916\n",
            "Iter = 190 best fitness = 20.888\n",
            "Iter = 200 best fitness = 20.740\n",
            "Iter = 210 best fitness = 20.679\n",
            "Iter = 220 best fitness = 20.678\n",
            "Iter = 230 best fitness = 20.678\n",
            "Iter = 240 best fitness = 20.678\n",
            "Iter = 250 best fitness = 20.678\n",
            "Iter = 260 best fitness = 20.678\n",
            "Iter = 270 best fitness = 20.639\n",
            "Iter = 280 best fitness = 20.618\n",
            "Iter = 290 best fitness = 20.595\n",
            "Iter = 300 best fitness = 20.593\n",
            "Iter = 310 best fitness = 20.586\n",
            "Iter = 320 best fitness = 20.583\n",
            "Iter = 330 best fitness = 20.583\n",
            "Iter = 340 best fitness = 20.533\n",
            "Iter = 350 best fitness = 20.524\n",
            "Iter = 360 best fitness = 20.524\n",
            "Iter = 370 best fitness = 20.512\n",
            "Iter = 380 best fitness = 20.492\n",
            "Iter = 390 best fitness = 20.423\n",
            "Iter = 400 best fitness = 20.368\n",
            "Iter = 410 best fitness = 20.322\n",
            "Iter = 420 best fitness = 20.292\n",
            "Iter = 430 best fitness = 20.273\n",
            "Iter = 440 best fitness = 20.256\n",
            "Iter = 450 best fitness = 20.250\n",
            "Iter = 460 best fitness = 20.231\n",
            "Iter = 470 best fitness = 20.213\n",
            "Iter = 480 best fitness = 20.187\n",
            "Iter = 490 best fitness = 20.181\n"
          ]
        }
      ],
      "source": [
        "best_position,best_fitness_pso = pso(ackley, max_iteration, pop_size, dim, lb,ub)"
      ]
    },
    {
      "cell_type": "markdown",
      "metadata": {
        "id": "FydFmBqRoAhN"
      },
      "source": [
        "## GA"
      ]
    },
    {
      "cell_type": "code",
      "execution_count": null,
      "metadata": {
        "id": "Ppa-q3lyoAhO"
      },
      "outputs": [],
      "source": [
        "\n",
        "\n",
        "algorithm_param = {'max_num_iteration': 500,\n",
        "                   'population_size':20}\n",
        "\n",
        "\n",
        "model=ga(function=ackley,dimension=dim,variable_type='real',variable_boundaries=varbound)\n",
        "\n",
        "model.run()\n",
        "best_fitness_GA=model.report[:500]"
      ]
    },
    {
      "cell_type": "markdown",
      "metadata": {
        "id": "82XuSj2BR1Y8"
      },
      "source": [
        "## SA"
      ]
    },
    {
      "cell_type": "code",
      "execution_count": null,
      "metadata": {
        "colab": {
          "base_uri": "https://localhost:8080/"
        },
        "id": "UbpRASSDIHWR",
        "outputId": "6f9f7b1c-0ece-424b-e5e1-ab4e3b2f080b"
      },
      "outputs": [
        {
          "name": "stdout",
          "output_type": "stream",
          "text": [
            "Done!\n"
          ]
        }
      ],
      "source": [
        "# seed the pseudorandom number generator\n",
        "seed(1)\n",
        "# define range for input\n",
        "bounds = asarray([[lb, ub]]*30)\n",
        "# define the total iterations\n",
        "n_iterations = 500\n",
        "# define the maximum step size\n",
        "step_size = .1\n",
        "# initial temperature\n",
        "temp = 1\n",
        "# perform the simulated annealing search\n",
        "best, score, best_fitness_SA = simulated_annealing(ackley, bounds, n_iterations, step_size, temp)\n",
        "print('Done!')\n",
        "# print('f(%s) = %f' % (best, score))\n"
      ]
    },
    {
      "cell_type": "markdown",
      "metadata": {
        "id": "0opBZwatR3NW"
      },
      "source": [
        "## GSA"
      ]
    },
    {
      "cell_type": "code",
      "execution_count": null,
      "metadata": {
        "id": "_bkGge4vRSVT"
      },
      "outputs": [],
      "source": [
        "best_fitness_GSA=GSA(ackley,lb,ub,30,20,500)"
      ]
    },
    {
      "cell_type": "markdown",
      "metadata": {
        "id": "CNaxYij2ofO1"
      },
      "source": [
        "## plot ackley"
      ]
    },
    {
      "cell_type": "code",
      "execution_count": null,
      "metadata": {
        "id": "JZwKyr74IHWR"
      },
      "outputs": [],
      "source": [
        "df=pd.read_csv((\"/content/drive/MyDrive/EC project/ackley_EC_proj_df\"))\n",
        "best_fitness_WHO=df.WHO;best_fitness_pso=df.PSO;best_fitness_GA=df.GA"
      ]
    },
    {
      "cell_type": "code",
      "execution_count": null,
      "metadata": {
        "colab": {
          "base_uri": "https://localhost:8080/",
          "height": 621
        },
        "id": "J3tcKLUroeSd",
        "outputId": "d56dd6b2-7e92-4610-e7e0-4fd7262cf392"
      },
      "outputs": [
        {
          "data": {
            "image/png": "[encoded data removed]",
            "text/plain": [
              "<Figure size 1080x720 with 1 Axes>"
            ]
          },
          "metadata": {},
          "output_type": "display_data"
        }
      ],
      "source": [
        "plt.figure(figsize=(15, 10))\n",
        "\n",
        "plt.plot(range(len(best_fitness_WHO)),best_fitness_WHO)\n",
        "plt.plot(range(len(best_fitness_pso)),best_fitness_pso)\n",
        "plt.plot(range(len(best_fitness_GA)),best_fitness_GA)\n",
        "plt.plot(range(len(best_fitness_SA)),best_fitness_SA)\n",
        "plt.plot(range(len(best_fitness_GSA)),best_fitness_GSA)\n",
        "\n",
        "plt.legend([\"WHO\",\"PSO\",\"GA\",\"SA\",\"GSA\"])\n",
        "plt.xlabel(\"iteration\")\n",
        "plt.ylabel(\"Objective Function\")\n",
        "plt.title(\"Ackley\")\n",
        "plt.show()"
      ]
    },
    {
      "cell_type": "code",
      "execution_count": null,
      "metadata": {
        "id": "nEAZIPvAoeSe"
      },
      "outputs": [],
      "source": [
        "df=pd.DataFrame({\"WHO\":best_fitness_WHO,\"PSO\":best_fitness_pso,\"GA\":best_fitness_GA})\n",
        "# df=pd.DataFrame({\"WHO\":best_fitness_WHO})\n",
        "# df.to_csv(\"/content/drive/MyDrive/EC project/ackley_EC_proj_df\")"
      ]
    },
    {
      "cell_type": "markdown",
      "metadata": {
        "id": "o3p0tKuL7tcJ"
      },
      "source": [
        "# Weierstras"
      ]
    },
    {
      "cell_type": "code",
      "execution_count": null,
      "metadata": {
        "id": "gyXpdxbT8E8Z"
      },
      "outputs": [],
      "source": [
        "\n",
        "def weierstrass(X):\n",
        "\n",
        "    dim=len(X) \n",
        "\n",
        "    a=0.5\n",
        "    b=3\n",
        "    OF=0\n",
        "    for i in range (0,dim):\n",
        "        t1=0\n",
        "        for k in range (0,21):\n",
        "            t1+=(a**k)*math.cos((2*math.pi*(b**k))*(X[i]+0.5))\n",
        "        OF+=t1\n",
        "    t2=0    \n",
        "    for k in range (0,21):\n",
        "        t2+=(a**k)*math.cos(math.pi*(b**k))\n",
        "    OF-=dim*t2\n",
        "\n",
        "    return OF\n",
        "\n",
        "\n",
        "lb=-.5;ub=.5\n",
        "\n"
      ]
    },
    {
      "cell_type": "code",
      "execution_count": null,
      "metadata": {
        "colab": {
          "base_uri": "https://localhost:8080/"
        },
        "id": "yRaNu_5v8a1k",
        "outputId": "6cbd00f5-50f4-4a86-922d-7fdd3b0d574d"
      },
      "outputs": [
        {
          "name": "stdout",
          "output_type": "stream",
          "text": [
            "iteration # 0\n",
            "iteration # 100\n",
            "iteration # 200\n",
            "iteration # 300\n",
            "iteration # 400\n"
          ]
        }
      ],
      "source": [
        "\n",
        "population = create_population(pop_size,lb,ub,dim)\n",
        "cp=calculate_fitnesses(population,\"weierstrass\")\n",
        "xp_cp_dataframe = pd.DataFrame({'x_p':population.tolist(),'c_p':cp.tolist()})\n",
        "best_fitness_WHO=wildbeast_optimizaiton(xp_cp_dataframe,ns,dim,etha,distance_from_crowding_threshold,distance_from_worst_threshold,ne,ph,alpha1,betta1,alpha2,betta2,function='weierstrass')"
      ]
    },
    {
      "cell_type": "markdown",
      "metadata": {
        "id": "RFPaRKWP8a1k"
      },
      "source": [
        "## PSO"
      ]
    },
    {
      "cell_type": "code",
      "execution_count": null,
      "metadata": {
        "colab": {
          "base_uri": "https://localhost:8080/"
        },
        "id": "cUYDbK-68a1k",
        "outputId": "e9871440-597e-4d4b-8665-2b276ebc8bb8"
      },
      "outputs": [
        {
          "name": "stdout",
          "output_type": "stream",
          "text": [
            "Iter = 10 best fitness = 38.508\n",
            "Iter = 20 best fitness = 29.355\n",
            "Iter = 30 best fitness = 24.404\n",
            "Iter = 40 best fitness = 21.987\n",
            "Iter = 50 best fitness = 17.855\n",
            "Iter = 60 best fitness = 14.711\n",
            "Iter = 70 best fitness = 12.794\n",
            "Iter = 80 best fitness = 11.914\n",
            "Iter = 90 best fitness = 11.207\n",
            "Iter = 100 best fitness = 9.649\n",
            "Iter = 110 best fitness = 8.668\n",
            "Iter = 120 best fitness = 7.728\n",
            "Iter = 130 best fitness = 7.235\n",
            "Iter = 140 best fitness = 6.684\n",
            "Iter = 150 best fitness = 6.383\n",
            "Iter = 160 best fitness = 5.693\n",
            "Iter = 170 best fitness = 5.416\n",
            "Iter = 180 best fitness = 5.023\n",
            "Iter = 190 best fitness = 4.699\n",
            "Iter = 200 best fitness = 4.427\n",
            "Iter = 210 best fitness = 4.218\n",
            "Iter = 220 best fitness = 4.130\n",
            "Iter = 230 best fitness = 3.996\n",
            "Iter = 240 best fitness = 3.700\n",
            "Iter = 250 best fitness = 3.683\n",
            "Iter = 260 best fitness = 3.601\n",
            "Iter = 270 best fitness = 3.565\n",
            "Iter = 280 best fitness = 3.514\n",
            "Iter = 290 best fitness = 3.499\n",
            "Iter = 300 best fitness = 3.472\n",
            "Iter = 310 best fitness = 3.444\n",
            "Iter = 320 best fitness = 3.415\n",
            "Iter = 330 best fitness = 3.399\n",
            "Iter = 340 best fitness = 3.391\n",
            "Iter = 350 best fitness = 3.374\n",
            "Iter = 360 best fitness = 3.368\n",
            "Iter = 370 best fitness = 3.357\n",
            "Iter = 380 best fitness = 3.350\n",
            "Iter = 390 best fitness = 3.348\n",
            "Iter = 400 best fitness = 3.345\n",
            "Iter = 410 best fitness = 3.338\n",
            "Iter = 420 best fitness = 3.336\n",
            "Iter = 430 best fitness = 3.334\n",
            "Iter = 440 best fitness = 3.333\n",
            "Iter = 450 best fitness = 3.331\n",
            "Iter = 460 best fitness = 3.330\n",
            "Iter = 470 best fitness = 3.327\n",
            "Iter = 480 best fitness = 3.325\n",
            "Iter = 490 best fitness = 3.325\n"
          ]
        }
      ],
      "source": [
        "best_position,best_fitness_pso = pso(weierstrass, max_iteration, pop_size, dim, lb,ub)"
      ]
    },
    {
      "cell_type": "markdown",
      "metadata": {
        "id": "K49KJqfi8a1k"
      },
      "source": [
        "## GA"
      ]
    },
    {
      "cell_type": "code",
      "execution_count": null,
      "metadata": {
        "colab": {
          "base_uri": "https://localhost:8080/",
          "height": 450
        },
        "id": "ppzSvAR_8a1k",
        "outputId": "d88c980a-a0a6-41d0-afeb-3770d32d5f5a"
      },
      "outputs": [
        {
          "name": "stdout",
          "output_type": "stream",
          "text": [
            " The best solution found:\n",
            " [-0.00450125  0.0025092  -0.03970027  0.00100041  0.01104369  0.00114688\n",
            "  0.00195717 -0.0372435   0.03561044 -0.0051578  -0.04526145 -0.00293787\n",
            "  0.00859605 -0.01009527 -0.0126705   0.0102228   0.01890197  0.03714611\n",
            " -0.00228432  0.00490227 -0.03571128 -0.00254813 -0.00069501  0.01037325\n",
            " -0.00410901 -0.03496439  0.04885717  0.00176484 -0.00652428 -0.02931271]\n",
            "\n",
            " Objective function:\n",
            " 10.68974488563967\n"
          ]
        },
        {
          "data": {
            "image/png": "[encoded data removed]",
            "text/plain": [
              "<Figure size 432x288 with 1 Axes>"
            ]
          },
          "metadata": {},
          "output_type": "display_data"
        }
      ],
      "source": [
        "\n",
        "varbound=np.array([[lb,ub]]*dim)\n",
        "\n",
        "algorithm_param = {'max_num_iteration': 500,\\\n",
        "                   'population_size':20,\\\n",
        "                   'mutation_probability':0.1,\\\n",
        "                   'elit_ratio': 0.01,\\\n",
        "                   'crossover_probability': 0.5,\\\n",
        "                   'parents_portion': 0.3,\\\n",
        "                   'crossover_type':'uniform',\\\n",
        "                   'max_iteration_without_improv':None}\n",
        "\n",
        "model=ga(function=weierstrass,dimension=dim,variable_type='real',variable_boundaries=varbound)\n",
        "\n",
        "model.run()\n",
        "best_fitness_GA=model.report[:500]"
      ]
    },
    {
      "cell_type": "code",
      "execution_count": null,
      "metadata": {
        "id": "CUqKnWvVE0Yn"
      },
      "outputs": [],
      "source": []
    },
    {
      "cell_type": "markdown",
      "metadata": {
        "id": "kdDWkluSE65Y"
      },
      "source": [
        "## SA"
      ]
    },
    {
      "cell_type": "code",
      "execution_count": null,
      "metadata": {
        "colab": {
          "base_uri": "https://localhost:8080/"
        },
        "id": "Y1OhzVFzE0oh",
        "outputId": "52c1818a-cfc1-4925-bc04-83b523e7f892"
      },
      "outputs": [
        {
          "name": "stdout",
          "output_type": "stream",
          "text": [
            "Done!\n"
          ]
        }
      ],
      "source": [
        "# seed the pseudorandom number generator\n",
        "seed(1)\n",
        "# define range for input\n",
        "bounds = asarray([[lb, ub]]*30)\n",
        "# define the total iterations\n",
        "n_iterations = 500\n",
        "# define the maximum step size\n",
        "step_size = .5\n",
        "# initial temperature\n",
        "temp = 1\n",
        "# perform the simulated annealing search\n",
        "best, score, best_fitness_SA = simulated_annealing(weierstrass, bounds, n_iterations, step_size, temp)\n",
        "print('Done!')\n",
        "# print('f(%s) = %f' % (best, score))\n"
      ]
    },
    {
      "cell_type": "markdown",
      "metadata": {
        "id": "HstRqzY-PzJv"
      },
      "source": [
        "## GSA"
      ]
    },
    {
      "cell_type": "code",
      "execution_count": null,
      "metadata": {
        "id": "mmqMyEHAP1WR"
      },
      "outputs": [],
      "source": [
        "best_fitness_GSA=GSA(weierstrass,lb,ub,30,20,500)"
      ]
    },
    {
      "cell_type": "markdown",
      "metadata": {
        "id": "Ff1mkz-58a1l"
      },
      "source": [
        "## plot weierstrass"
      ]
    },
    {
      "cell_type": "code",
      "execution_count": null,
      "metadata": {
        "id": "E8hRNPFCE0oi"
      },
      "outputs": [],
      "source": [
        "df=pd.read_csv((\"/content/drive/MyDrive/EC project/weierstrass_EC_proj_df\"))\n",
        "best_fitness_WHO=df.WHO;best_fitness_pso=df.PSO;best_fitness_GA=df.GA"
      ]
    },
    {
      "cell_type": "code",
      "execution_count": null,
      "metadata": {
        "colab": {
          "base_uri": "https://localhost:8080/",
          "height": 621
        },
        "id": "tPgDSGaO8a1l",
        "outputId": "11a637ee-3ae9-4884-d52e-2a00a8aff91f"
      },
      "outputs": [
        {
          "data": {
            "image/png": "[encoded data removed]",
            "text/plain": [
              "<Figure size 1080x720 with 1 Axes>"
            ]
          },
          "metadata": {},
          "output_type": "display_data"
        }
      ],
      "source": [
        "plt.figure(figsize=(15, 10))\n",
        "\n",
        "plt.plot(range(len(best_fitness_WHO)),best_fitness_WHO)\n",
        "plt.plot(range(len(best_fitness_pso)),best_fitness_pso)\n",
        "\n",
        "plt.plot(range(len(best_fitness_GA)),best_fitness_GA)\n",
        "plt.plot(range(len(best_fitness_SA)),best_fitness_SA)\n",
        "plt.plot(range(len(best_fitness_GSA)),best_fitness_GSA)\n",
        "\n",
        "plt.legend([\"WHO\",\"PSO\",\"GA\",\"SA\",\"GSA\"])\n",
        "plt.xlabel(\"iteration\")\n",
        "plt.ylabel(\"Objective Function\")\n",
        "plt.title(\"weierstrass\")\n",
        "plt.show()"
      ]
    },
    {
      "cell_type": "code",
      "execution_count": null,
      "metadata": {
        "id": "eDZNqG9M8a1l"
      },
      "outputs": [],
      "source": [
        "df=pd.DataFrame({\"WHO\":best_fitness_WHO,\"PSO\":best_fitness_pso,\"GA\":best_fitness_GA})\n",
        "# df=pd.DataFrame({\"WHO\":best_fitness_WHO})\n",
        "# df.to_csv(\"/content/drive/MyDrive/EC project/weierstrass_EC_proj_df\")"
      ]
    },
    {
      "cell_type": "markdown",
      "metadata": {
        "id": "gJMBvZO7a1P_"
      },
      "source": [
        "# Sphere"
      ]
    },
    {
      "cell_type": "code",
      "execution_count": null,
      "metadata": {
        "colab": {
          "base_uri": "https://localhost:8080/"
        },
        "id": "KAKIGGDla_xI",
        "outputId": "652ebfd2-8fda-46a9-8722-0937c8b80a07"
      },
      "outputs": [
        {
          "name": "stdout",
          "output_type": "stream",
          "text": [
            "iteration # 0\n",
            "iteration # 100\n",
            "iteration # 200\n",
            "iteration # 300\n",
            "iteration # 400\n"
          ]
        }
      ],
      "source": [
        "lb=-100;ub=100\n",
        "\n",
        "population = create_population(pop_size,lb,ub,dim)\n",
        "cp=calculate_fitnesses(population,\"sphere\")\n",
        "xp_cp_dataframe = pd.DataFrame({'x_p':population.tolist(),'c_p':cp.tolist()})\n",
        "best_fitness_WHO=wildbeast_optimizaiton(xp_cp_dataframe,ns,dim,etha,distance_from_crowding_threshold,distance_from_worst_threshold,ne,ph,alpha1,betta1,alpha2,betta2,function='sphere')"
      ]
    },
    {
      "cell_type": "code",
      "execution_count": null,
      "metadata": {
        "colab": {
          "base_uri": "https://localhost:8080/"
        },
        "id": "XA4Wk5H1dAuE",
        "outputId": "1dfb184c-de65-46a5-9c54-4ac1e9ae9c6e"
      },
      "outputs": [
        {
          "name": "stdout",
          "output_type": "stream",
          "text": [
            "Iter = 10 best fitness = 22867.900\n",
            "Iter = 20 best fitness = 8914.190\n",
            "Iter = 30 best fitness = 8121.162\n",
            "Iter = 40 best fitness = 5003.538\n",
            "Iter = 50 best fitness = 4663.895\n",
            "Iter = 60 best fitness = 3090.117\n",
            "Iter = 70 best fitness = 2891.710\n",
            "Iter = 80 best fitness = 1836.073\n",
            "Iter = 90 best fitness = 1226.013\n",
            "Iter = 100 best fitness = 978.518\n",
            "Iter = 110 best fitness = 557.948\n",
            "Iter = 120 best fitness = 353.753\n",
            "Iter = 130 best fitness = 272.399\n",
            "Iter = 140 best fitness = 250.439\n",
            "Iter = 150 best fitness = 171.314\n",
            "Iter = 160 best fitness = 103.324\n",
            "Iter = 170 best fitness = 67.613\n",
            "Iter = 180 best fitness = 47.910\n",
            "Iter = 190 best fitness = 29.986\n",
            "Iter = 200 best fitness = 13.399\n",
            "Iter = 210 best fitness = 8.840\n",
            "Iter = 220 best fitness = 7.653\n",
            "Iter = 230 best fitness = 4.727\n",
            "Iter = 240 best fitness = 3.518\n",
            "Iter = 250 best fitness = 1.808\n",
            "Iter = 260 best fitness = 1.791\n",
            "Iter = 270 best fitness = 1.224\n",
            "Iter = 280 best fitness = 0.867\n",
            "Iter = 290 best fitness = 0.731\n",
            "Iter = 300 best fitness = 0.484\n",
            "Iter = 310 best fitness = 0.356\n",
            "Iter = 320 best fitness = 0.268\n",
            "Iter = 330 best fitness = 0.196\n",
            "Iter = 340 best fitness = 0.168\n",
            "Iter = 350 best fitness = 0.134\n",
            "Iter = 360 best fitness = 0.114\n",
            "Iter = 370 best fitness = 0.090\n",
            "Iter = 380 best fitness = 0.066\n",
            "Iter = 390 best fitness = 0.040\n",
            "Iter = 400 best fitness = 0.032\n",
            "Iter = 410 best fitness = 0.019\n",
            "Iter = 420 best fitness = 0.009\n",
            "Iter = 430 best fitness = 0.006\n",
            "Iter = 440 best fitness = 0.005\n",
            "Iter = 450 best fitness = 0.004\n",
            "Iter = 460 best fitness = 0.003\n",
            "Iter = 470 best fitness = 0.003\n",
            "Iter = 480 best fitness = 0.002\n",
            "Iter = 490 best fitness = 0.002\n"
          ]
        }
      ],
      "source": [
        "\n",
        "best_position,best_fitness_pso = pso(sphere1, max_iteration, pop_size, dim, lb,ub)"
      ]
    },
    {
      "cell_type": "code",
      "execution_count": null,
      "metadata": {
        "colab": {
          "base_uri": "https://localhost:8080/",
          "height": 450
        },
        "id": "php2HmP1dJxv",
        "outputId": "b3431603-2694-46c4-d59e-d51c39274958"
      },
      "outputs": [
        {
          "name": "stdout",
          "output_type": "stream",
          "text": [
            " The best solution found:\n",
            " [-0.15549095 -0.31747538 -0.09248012 -0.04069694  0.03008365 -0.25808461\n",
            "  0.55045706  0.91031516  0.00648962 -0.09200288  0.01915608  0.03121761\n",
            "  0.14117007 -0.21145936 -0.14111846 -0.07182513 -0.33466978 -0.36848783\n",
            "  0.04097024  0.01917075  0.19604211 -0.14267542  0.17291937  0.19908986\n",
            " -0.00645937 -0.02589827  0.16213237 -0.01062618 -0.2642263   0.45898236]\n",
            "\n",
            " Objective function:\n",
            " 2.1196841765723793\n"
          ]
        },
        {
          "data": {
            "image/png": "[encoded data removed]",
            "text/plain": [
              "<Figure size 432x288 with 1 Axes>"
            ]
          },
          "metadata": {},
          "output_type": "display_data"
        }
      ],
      "source": [
        "\n",
        "varbound=np.array([[lb,ub]]*dim)\n",
        "\n",
        "algorithm_param = {'max_num_iteration': 500,\\\n",
        "                   'population_size':20,\\\n",
        "                   'mutation_probability':0.1,\\\n",
        "                   'elit_ratio': 0.01,\\\n",
        "                   'crossover_probability': 0.5,\\\n",
        "                   'parents_portion': 0.3,\\\n",
        "                   'crossover_type':'uniform',\\\n",
        "                   'max_iteration_without_improv':None}\n",
        "\n",
        "model=ga(function=sphere1,dimension=dim,variable_type='real',variable_boundaries=varbound)\n",
        "\n",
        "model.run()\n",
        "best_fitness_GA=model.report[:500]"
      ]
    },
    {
      "cell_type": "markdown",
      "metadata": {
        "id": "vHqOtIxCAk2M"
      },
      "source": [
        "## SA"
      ]
    },
    {
      "cell_type": "code",
      "execution_count": null,
      "metadata": {
        "colab": {
          "base_uri": "https://localhost:8080/"
        },
        "id": "nksVY9OVAkLA",
        "outputId": "f70d15b6-887e-4e74-d9dc-946a24304530"
      },
      "outputs": [
        {
          "name": "stdout",
          "output_type": "stream",
          "text": [
            "Done!\n"
          ]
        },
        {
          "name": "stderr",
          "output_type": "stream",
          "text": [
            "/usr/local/lib/python3.7/dist-packages/ipykernel_launcher.py:40: RuntimeWarning: overflow encountered in exp\n"
          ]
        }
      ],
      "source": [
        "# seed the pseudorandom number generator\n",
        "seed(1)\n",
        "# define range for input\n",
        "bounds = asarray([[-100, 100]]*30)\n",
        "# define the total iterations\n",
        "n_iterations = 500\n",
        "# define the maximum step size\n",
        "step_size = 10\n",
        "# initial temperature\n",
        "temp = 20\n",
        "# perform the simulated annealing search\n",
        "best, score, best_fitness_SA = simulated_annealing(sphere1, bounds, n_iterations, step_size, temp)\n",
        "print('Done!')\n",
        "# print('f(%s) = %f' % (best, score))\n"
      ]
    },
    {
      "cell_type": "markdown",
      "metadata": {
        "id": "EW8S3wLJN_hW"
      },
      "source": [
        "## GSA"
      ]
    },
    {
      "cell_type": "code",
      "execution_count": null,
      "metadata": {
        "id": "dGtgEoF1OBl4"
      },
      "outputs": [],
      "source": [
        "best_fitness_GSA=GSA(sphere1,-100,100,30,20,500)"
      ]
    },
    {
      "cell_type": "markdown",
      "metadata": {
        "id": "Zg-kqURDODBq"
      },
      "source": [
        "## plot GSA"
      ]
    },
    {
      "cell_type": "code",
      "execution_count": null,
      "metadata": {
        "id": "3SbXsVmy-r2t"
      },
      "outputs": [],
      "source": [
        "df=pd.read_csv((\"/content/drive/MyDrive/EC project/sphere_EC_proj_df\"))\n",
        "best_fitness_WHO=df.WHO;best_fitness_pso=df.PSO;best_fitness_GA=df.GA"
      ]
    },
    {
      "cell_type": "code",
      "execution_count": null,
      "metadata": {
        "colab": {
          "base_uri": "https://localhost:8080/",
          "height": 494
        },
        "id": "LEWb_ZJedMYN",
        "outputId": "a84c4e5b-98b2-4d8f-b6ad-8696475aea53"
      },
      "outputs": [
        {
          "data": {
            "image/png": "[encoded data removed]",
            "text/plain": [
              "<Figure size 1080x720 with 1 Axes>"
            ]
          },
          "metadata": {},
          "output_type": "display_data"
        }
      ],
      "source": [
        "plt.figure(figsize=(15, 10))\n",
        "plt.plot(range(len(best_fitness_WHO)),best_fitness_WHO)\n",
        "plt.plot(range(len(best_fitness_pso)),best_fitness_pso)\n",
        "\n",
        "plt.plot(range(len(best_fitness_GA)),best_fitness_GA)\n",
        "plt.plot(range(len(best_fitness_SA)),best_fitness_SA)\n",
        "plt.plot(range(len(best_fitness_GSA)),best_fitness_GSA)\n",
        "\n",
        "plt.legend([\"WHO\",\"PSO\",\"GA\",\"SA\",\"GSA\"])\n",
        "plt.xlabel(\"iteration\")\n",
        "plt.ylabel(\"Objective Function\")\n",
        "plt.title(\"sphere\")\n",
        "plt.show()"
      ]
    },
    {
      "cell_type": "code",
      "execution_count": null,
      "metadata": {
        "id": "Ali5KQCUdPVQ"
      },
      "outputs": [],
      "source": [
        "# df=pd.DataFrame({\"WHO\":best_fitness_WHO,\"PSO\":best_fitness_pso,\"GA\":best_fitness_GA})\n",
        "# df=pd.DataFrame({\"WHO\":best_fitness_WHO})\n",
        "# df.to_csv(\"/content/drive/MyDrive/EC project/sphere_EC_proj_df\")"
      ]
    },
    {
      "cell_type": "code",
      "execution_count": null,
      "metadata": {
        "id": "xv_JlYdc9zpy"
      },
      "outputs": [],
      "source": []
    },
    {
      "cell_type": "markdown",
      "metadata": {
        "id": "HPiJ16C8sYj2"
      },
      "source": [
        "# mean std"
      ]
    },
    {
      "cell_type": "code",
      "source": [
        "dim=5\n",
        "ns=2*dim\n",
        "ne=25\n",
        "etha=.05\n",
        "alpha1,betta1=.9,.3\n",
        "alpha2,betta2=.2,.8\n",
        "distance_from_worst_threshold=10\n",
        "distance_from_crowding_threshold=10\n",
        "pop_size= 20;\n",
        "ph=.2\n",
        "max_iteration = 100\n",
        "lb=-100;ub=100"
      ],
      "metadata": {
        "id": "J3cb0CCmWdqE"
      },
      "execution_count": null,
      "outputs": []
    },
    {
      "cell_type": "code",
      "execution_count": null,
      "metadata": {
        "id": "z7XEzbItsepn"
      },
      "outputs": [],
      "source": [
        "\n",
        "best_position_in_every_run_WHO=[]\n",
        "for i in range(50):\n",
        "  population = create_population(pop_size,lb,ub,dim)\n",
        "  cp=calculate_fitnesses(population,\"sphere\")\n",
        "  xp_cp_dataframe = pd.DataFrame({'x_p':population.tolist(),'c_p':cp.tolist()})\n",
        "  best_fitness_WHO=wildbeast_optimizaiton(xp_cp_dataframe,ns,dim,etha,distance_from_crowding_threshold,distance_from_worst_threshold,ne,ph,alpha1,betta1,alpha2,betta2,function='sphere')\n",
        "  best_position_in_every_run_WHO.append(best_fitness_WHO)"
      ]
    },
    {
      "cell_type": "code",
      "execution_count": null,
      "metadata": {
        "id": "k6freENWvP30"
      },
      "outputs": [],
      "source": [
        "\n",
        "# best_position_in_every_run_WHO=best_position_in_every_run_WHO.tolist()\n",
        "best_position_in_every_run_WHO_=[best_position_in_every_run_WHO[i][-1] for i in range(len(best_position_in_every_run_WHO))]\n",
        "best_position_in_every_run_WHO_"
      ]
    },
    {
      "cell_type": "code",
      "source": [
        "st_dev_WHO = statistics.pstdev(best_position_in_every_run_WHO_)\n",
        "mean_WHO = mean(best_position_in_every_run_WHO_)\n",
        "median_WHO = statistics.median(best_position_in_every_run_WHO_)\n",
        "\n",
        "print(f\"mean: {mean_WHO} \\t median: {median_WHO} \\t std: {st_dev_WHO}\")"
      ],
      "metadata": {
        "colab": {
          "base_uri": "https://localhost:8080/"
        },
        "id": "6ycojWtE9T6V",
        "outputId": "c6861039-1f7b-42f8-fbeb-2f7ba402a9e9"
      },
      "execution_count": null,
      "outputs": [
        {
          "output_type": "stream",
          "name": "stdout",
          "text": [
            "mean: 0.028928277817989435 \t median: 0.028531667382560036 \t std: 0.006531271205816313\n"
          ]
        }
      ]
    },
    {
      "cell_type": "code",
      "execution_count": null,
      "metadata": {
        "id": "2SqBCQmJtZ8E"
      },
      "outputs": [],
      "source": [
        "best_position_in_every_run_PSO=[]\n",
        "for i in range(50):\n",
        "  best_position,best_fitness_pso = pso(sphere1, max_iteration, pop_size, dim, lb,ub)\n",
        "  best_position_in_every_run_PSO.append(best_fitness_pso)"
      ]
    },
    {
      "cell_type": "code",
      "source": [
        "best_position_in_every_run_PSO_=[best_position_in_every_run_PSO[i][-1] for i in range(len(best_position_in_every_run_PSO))]"
      ],
      "metadata": {
        "id": "CWyRg_rhWnKf"
      },
      "execution_count": null,
      "outputs": []
    },
    {
      "cell_type": "code",
      "source": [
        "best_position_in_every_run_PSO"
      ],
      "metadata": {
        "id": "btQLRVJVdlxc"
      },
      "execution_count": null,
      "outputs": []
    },
    {
      "cell_type": "code",
      "source": [
        "st_dev_PSO = statistics.pstdev(best_position_in_every_run_PSO_)\n",
        "mean_PSO = mean(best_position_in_every_run_PSO_)\n",
        "median_PSO = statistics.median(best_position_in_every_run_PSO_)\n",
        "\n",
        "print(f\"mean: {mean_PSO} \\t median: {median_PSO} \\t std: {st_dev_PSO}\")"
      ],
      "metadata": {
        "colab": {
          "base_uri": "https://localhost:8080/"
        },
        "id": "7pclcLAOWpfO",
        "outputId": "ef98c0bb-eb74-492a-9e31-a88a6f621295"
      },
      "execution_count": null,
      "outputs": [
        {
          "output_type": "stream",
          "name": "stdout",
          "text": [
            "mean: 1.6825364242556867e-09 \t median: 1.6825364242556884e-09 \t std: 0.0\n"
          ]
        }
      ]
    },
    {
      "cell_type": "code",
      "source": [
        "varbound=np.array([[lb,ub]]*dim)\n",
        "\n",
        "algorithm_param = {'max_num_iteration': 100,\\\n",
        "                   'population_size':20,\\\n",
        "                   'mutation_probability':0.1,\\\n",
        "                   'elit_ratio': 0.01,\\\n",
        "                   'crossover_probability': 0.5,\\\n",
        "                   'parents_portion': 0.3,\\\n",
        "                   'crossover_type':'uniform',\\\n",
        "                   'max_iteration_without_improv':None}\n",
        "best_position_in_every_run_GA   =[]                \n",
        "for i in range(50):\n",
        "  model=ga(function=sphere1,dimension=dim,variable_type='real',variable_boundaries=varbound)\n",
        "\n",
        "  model.run()\n",
        "  best_fitness_GA=model.report[:500]\n",
        "  best_position_in_every_run_GA.append(best_fitness_GA)"
      ],
      "metadata": {
        "colab": {
          "base_uri": "https://localhost:8080/",
          "height": 1000
        },
        "id": "0sEglJ_0W9Zg",
        "outputId": "27b96394-503c-4d16-c0b2-477d31bb6056"
      },
      "execution_count": null,
      "outputs": [
        {
          "output_type": "stream",
          "name": "stdout",
          "text": [
            " The best solution found:\n",
            " [-3.48279317e-07 -1.51198900e-05  2.95915733e-06 -9.44572372e-06\n",
            "  2.57769844e-05]\n",
            "\n",
            " Objective function:\n",
            " 9.911636068506637e-10\n"
          ]
        },
        {
          "output_type": "display_data",
          "data": {
            "image/png": "[encoded data removed]",
            "text/plain": [
              "<Figure size 432x288 with 1 Axes>"
            ]
          },
          "metadata": {
            "needs_background": "light"
          }
        },
        {
          "output_type": "stream",
          "name": "stdout",
          "text": [
            " The best solution found:\n",
            " [ 1.14567865e-05  8.14284654e-05  4.21127274e-04  2.82081527e-05\n",
            " -1.65048928e-04]\n",
            "\n",
            " Objective function:\n",
            " 2.1214688229575396e-07\n"
          ]
        },
        {
          "output_type": "display_data",
          "data": {
            "image/png": "[encoded data removed]",
            "text/plain": [
              "<Figure size 432x288 with 1 Axes>"
            ]
          },
          "metadata": {
            "needs_background": "light"
          }
        },
        {
          "output_type": "stream",
          "name": "stdout",
          "text": [
            " The best solution found:\n",
            " [ 4.77232445e-05 -1.92750095e-06 -2.00347154e-05 -1.56315742e-04\n",
            " -3.44889175e-07]\n",
            "\n",
            " Objective function:\n",
            " 2.7117343238114306e-08\n"
          ]
        },
        {
          "output_type": "display_data",
          "data": {
            "image/png": "[encoded data removed]",
            "text/plain": [
              "<Figure size 432x288 with 1 Axes>"
            ]
          },
          "metadata": {
            "needs_background": "light"
          }
        },
        {
          "output_type": "stream",
          "name": "stdout",
          "text": [
            "||||||||||||||||||||||||||||||||||||||||__________ 79.9% GA is running..."
          ]
        },
        {
          "output_type": "error",
          "ename": "KeyboardInterrupt",
          "evalue": "ignored",
          "traceback": [
            "\u001b[0;31m---------------------------------------------------------------------------\u001b[0m",
            "\u001b[0;31mKeyboardInterrupt\u001b[0m                         Traceback (most recent call last)",
            "\u001b[0;32m<ipython-input-31-5e2bcffd1a95>\u001b[0m in \u001b[0;36m<module>\u001b[0;34m()\u001b[0m\n\u001b[1;32m      6\u001b[0m   \u001b[0mmodel\u001b[0m\u001b[0;34m=\u001b[0m\u001b[0mga\u001b[0m\u001b[0;34m(\u001b[0m\u001b[0mfunction\u001b[0m\u001b[0;34m=\u001b[0m\u001b[0msphere1\u001b[0m\u001b[0;34m,\u001b[0m\u001b[0mdimension\u001b[0m\u001b[0;34m=\u001b[0m\u001b[0mdim\u001b[0m\u001b[0;34m,\u001b[0m\u001b[0mvariable_type\u001b[0m\u001b[0;34m=\u001b[0m\u001b[0;34m'real'\u001b[0m\u001b[0;34m,\u001b[0m\u001b[0mvariable_boundaries\u001b[0m\u001b[0;34m=\u001b[0m\u001b[0mvarbound\u001b[0m\u001b[0;34m)\u001b[0m\u001b[0;34m\u001b[0m\u001b[0;34m\u001b[0m\u001b[0m\n\u001b[1;32m      7\u001b[0m \u001b[0;34m\u001b[0m\u001b[0m\n\u001b[0;32m----> 8\u001b[0;31m   \u001b[0mmodel\u001b[0m\u001b[0;34m.\u001b[0m\u001b[0mrun\u001b[0m\u001b[0;34m(\u001b[0m\u001b[0;34m)\u001b[0m\u001b[0;34m\u001b[0m\u001b[0;34m\u001b[0m\u001b[0m\n\u001b[0m\u001b[1;32m      9\u001b[0m   \u001b[0mbest_fitness_GA\u001b[0m\u001b[0;34m=\u001b[0m\u001b[0mmodel\u001b[0m\u001b[0;34m.\u001b[0m\u001b[0mreport\u001b[0m\u001b[0;34m[\u001b[0m\u001b[0;34m:\u001b[0m\u001b[0;36m500\u001b[0m\u001b[0;34m]\u001b[0m\u001b[0;34m\u001b[0m\u001b[0;34m\u001b[0m\u001b[0m\n\u001b[1;32m     10\u001b[0m   \u001b[0mbest_position_in_every_run_GA\u001b[0m\u001b[0;34m.\u001b[0m\u001b[0mappend\u001b[0m\u001b[0;34m(\u001b[0m\u001b[0mbest_fitness_GA\u001b[0m\u001b[0;34m)\u001b[0m\u001b[0;34m\u001b[0m\u001b[0;34m\u001b[0m\u001b[0m\n",
            "\u001b[0;32m/usr/local/lib/python3.7/dist-packages/geneticalgorithm/geneticalgorithm.py\u001b[0m in \u001b[0;36mrun\u001b[0;34m(self)\u001b[0m\n\u001b[1;32m    401\u001b[0m                 \u001b[0mch2\u001b[0m\u001b[0;34m=\u001b[0m\u001b[0mself\u001b[0m\u001b[0;34m.\u001b[0m\u001b[0mmutmidle\u001b[0m\u001b[0;34m(\u001b[0m\u001b[0mch2\u001b[0m\u001b[0;34m,\u001b[0m\u001b[0mpvar1\u001b[0m\u001b[0;34m,\u001b[0m\u001b[0mpvar2\u001b[0m\u001b[0;34m)\u001b[0m\u001b[0;34m\u001b[0m\u001b[0;34m\u001b[0m\u001b[0m\n\u001b[1;32m    402\u001b[0m                 \u001b[0msolo\u001b[0m\u001b[0;34m[\u001b[0m\u001b[0;34m:\u001b[0m \u001b[0mself\u001b[0m\u001b[0;34m.\u001b[0m\u001b[0mdim\u001b[0m\u001b[0;34m]\u001b[0m\u001b[0;34m=\u001b[0m\u001b[0mch1\u001b[0m\u001b[0;34m.\u001b[0m\u001b[0mcopy\u001b[0m\u001b[0;34m(\u001b[0m\u001b[0;34m)\u001b[0m\u001b[0;34m\u001b[0m\u001b[0;34m\u001b[0m\u001b[0m\n\u001b[0;32m--> 403\u001b[0;31m                 \u001b[0mobj\u001b[0m\u001b[0;34m=\u001b[0m\u001b[0mself\u001b[0m\u001b[0;34m.\u001b[0m\u001b[0msim\u001b[0m\u001b[0;34m(\u001b[0m\u001b[0mch1\u001b[0m\u001b[0;34m)\u001b[0m\u001b[0;34m\u001b[0m\u001b[0;34m\u001b[0m\u001b[0m\n\u001b[0m\u001b[1;32m    404\u001b[0m                 \u001b[0msolo\u001b[0m\u001b[0;34m[\u001b[0m\u001b[0mself\u001b[0m\u001b[0;34m.\u001b[0m\u001b[0mdim\u001b[0m\u001b[0;34m]\u001b[0m\u001b[0;34m=\u001b[0m\u001b[0mobj\u001b[0m\u001b[0;34m\u001b[0m\u001b[0;34m\u001b[0m\u001b[0m\n\u001b[1;32m    405\u001b[0m                 \u001b[0mpop\u001b[0m\u001b[0;34m[\u001b[0m\u001b[0mk\u001b[0m\u001b[0;34m]\u001b[0m\u001b[0;34m=\u001b[0m\u001b[0msolo\u001b[0m\u001b[0;34m.\u001b[0m\u001b[0mcopy\u001b[0m\u001b[0;34m(\u001b[0m\u001b[0;34m)\u001b[0m\u001b[0;34m\u001b[0m\u001b[0;34m\u001b[0m\u001b[0m\n",
            "\u001b[0;32m/usr/local/lib/python3.7/dist-packages/geneticalgorithm/geneticalgorithm.py\u001b[0m in \u001b[0;36msim\u001b[0;34m(self, X)\u001b[0m\n\u001b[1;32m    540\u001b[0m         \u001b[0mobj\u001b[0m\u001b[0;34m=\u001b[0m\u001b[0;32mNone\u001b[0m\u001b[0;34m\u001b[0m\u001b[0;34m\u001b[0m\u001b[0m\n\u001b[1;32m    541\u001b[0m         \u001b[0;32mtry\u001b[0m\u001b[0;34m:\u001b[0m\u001b[0;34m\u001b[0m\u001b[0;34m\u001b[0m\u001b[0m\n\u001b[0;32m--> 542\u001b[0;31m             \u001b[0mobj\u001b[0m\u001b[0;34m=\u001b[0m\u001b[0mfunc_timeout\u001b[0m\u001b[0;34m(\u001b[0m\u001b[0mself\u001b[0m\u001b[0;34m.\u001b[0m\u001b[0mfuntimeout\u001b[0m\u001b[0;34m,\u001b[0m\u001b[0mself\u001b[0m\u001b[0;34m.\u001b[0m\u001b[0mevaluate\u001b[0m\u001b[0;34m)\u001b[0m\u001b[0;34m\u001b[0m\u001b[0;34m\u001b[0m\u001b[0m\n\u001b[0m\u001b[1;32m    543\u001b[0m         \u001b[0;32mexcept\u001b[0m \u001b[0mFunctionTimedOut\u001b[0m\u001b[0;34m:\u001b[0m\u001b[0;34m\u001b[0m\u001b[0;34m\u001b[0m\u001b[0m\n\u001b[1;32m    544\u001b[0m             \u001b[0mprint\u001b[0m\u001b[0;34m(\u001b[0m\u001b[0;34m\"given function is not applicable\"\u001b[0m\u001b[0;34m)\u001b[0m\u001b[0;34m\u001b[0m\u001b[0;34m\u001b[0m\u001b[0m\n",
            "\u001b[0;32m/usr/local/lib/python3.7/dist-packages/func_timeout/dafunc.py\u001b[0m in \u001b[0;36mfunc_timeout\u001b[0;34m(timeout, func, args, kwargs)\u001b[0m\n\u001b[1;32m     83\u001b[0m     \u001b[0mthread\u001b[0m\u001b[0;34m.\u001b[0m\u001b[0mdaemon\u001b[0m \u001b[0;34m=\u001b[0m \u001b[0;32mTrue\u001b[0m\u001b[0;34m\u001b[0m\u001b[0;34m\u001b[0m\u001b[0m\n\u001b[1;32m     84\u001b[0m \u001b[0;34m\u001b[0m\u001b[0m\n\u001b[0;32m---> 85\u001b[0;31m     \u001b[0mthread\u001b[0m\u001b[0;34m.\u001b[0m\u001b[0mstart\u001b[0m\u001b[0;34m(\u001b[0m\u001b[0;34m)\u001b[0m\u001b[0;34m\u001b[0m\u001b[0;34m\u001b[0m\u001b[0m\n\u001b[0m\u001b[1;32m     86\u001b[0m     \u001b[0mthread\u001b[0m\u001b[0;34m.\u001b[0m\u001b[0mjoin\u001b[0m\u001b[0;34m(\u001b[0m\u001b[0mtimeout\u001b[0m\u001b[0;34m)\u001b[0m\u001b[0;34m\u001b[0m\u001b[0;34m\u001b[0m\u001b[0m\n\u001b[1;32m     87\u001b[0m \u001b[0;34m\u001b[0m\u001b[0m\n",
            "\u001b[0;32m/usr/lib/python3.7/threading.py\u001b[0m in \u001b[0;36mstart\u001b[0;34m(self)\u001b[0m\n\u001b[1;32m    855\u001b[0m                 \u001b[0;32mdel\u001b[0m \u001b[0m_limbo\u001b[0m\u001b[0;34m[\u001b[0m\u001b[0mself\u001b[0m\u001b[0;34m]\u001b[0m\u001b[0;34m\u001b[0m\u001b[0;34m\u001b[0m\u001b[0m\n\u001b[1;32m    856\u001b[0m             \u001b[0;32mraise\u001b[0m\u001b[0;34m\u001b[0m\u001b[0;34m\u001b[0m\u001b[0m\n\u001b[0;32m--> 857\u001b[0;31m         \u001b[0mself\u001b[0m\u001b[0;34m.\u001b[0m\u001b[0m_started\u001b[0m\u001b[0;34m.\u001b[0m\u001b[0mwait\u001b[0m\u001b[0;34m(\u001b[0m\u001b[0;34m)\u001b[0m\u001b[0;34m\u001b[0m\u001b[0;34m\u001b[0m\u001b[0m\n\u001b[0m\u001b[1;32m    858\u001b[0m \u001b[0;34m\u001b[0m\u001b[0m\n\u001b[1;32m    859\u001b[0m     \u001b[0;32mdef\u001b[0m \u001b[0mrun\u001b[0m\u001b[0;34m(\u001b[0m\u001b[0mself\u001b[0m\u001b[0;34m)\u001b[0m\u001b[0;34m:\u001b[0m\u001b[0;34m\u001b[0m\u001b[0;34m\u001b[0m\u001b[0m\n",
            "\u001b[0;32m/usr/lib/python3.7/threading.py\u001b[0m in \u001b[0;36mwait\u001b[0;34m(self, timeout)\u001b[0m\n\u001b[1;32m    550\u001b[0m             \u001b[0msignaled\u001b[0m \u001b[0;34m=\u001b[0m \u001b[0mself\u001b[0m\u001b[0;34m.\u001b[0m\u001b[0m_flag\u001b[0m\u001b[0;34m\u001b[0m\u001b[0;34m\u001b[0m\u001b[0m\n\u001b[1;32m    551\u001b[0m             \u001b[0;32mif\u001b[0m \u001b[0;32mnot\u001b[0m \u001b[0msignaled\u001b[0m\u001b[0;34m:\u001b[0m\u001b[0;34m\u001b[0m\u001b[0;34m\u001b[0m\u001b[0m\n\u001b[0;32m--> 552\u001b[0;31m                 \u001b[0msignaled\u001b[0m \u001b[0;34m=\u001b[0m \u001b[0mself\u001b[0m\u001b[0;34m.\u001b[0m\u001b[0m_cond\u001b[0m\u001b[0;34m.\u001b[0m\u001b[0mwait\u001b[0m\u001b[0;34m(\u001b[0m\u001b[0mtimeout\u001b[0m\u001b[0;34m)\u001b[0m\u001b[0;34m\u001b[0m\u001b[0;34m\u001b[0m\u001b[0m\n\u001b[0m\u001b[1;32m    553\u001b[0m             \u001b[0;32mreturn\u001b[0m \u001b[0msignaled\u001b[0m\u001b[0;34m\u001b[0m\u001b[0;34m\u001b[0m\u001b[0m\n\u001b[1;32m    554\u001b[0m \u001b[0;34m\u001b[0m\u001b[0m\n",
            "\u001b[0;32m/usr/lib/python3.7/threading.py\u001b[0m in \u001b[0;36mwait\u001b[0;34m(self, timeout)\u001b[0m\n\u001b[1;32m    294\u001b[0m         \u001b[0;32mtry\u001b[0m\u001b[0;34m:\u001b[0m    \u001b[0;31m# restore state no matter what (e.g., KeyboardInterrupt)\u001b[0m\u001b[0;34m\u001b[0m\u001b[0;34m\u001b[0m\u001b[0m\n\u001b[1;32m    295\u001b[0m             \u001b[0;32mif\u001b[0m \u001b[0mtimeout\u001b[0m \u001b[0;32mis\u001b[0m \u001b[0;32mNone\u001b[0m\u001b[0;34m:\u001b[0m\u001b[0;34m\u001b[0m\u001b[0;34m\u001b[0m\u001b[0m\n\u001b[0;32m--> 296\u001b[0;31m                 \u001b[0mwaiter\u001b[0m\u001b[0;34m.\u001b[0m\u001b[0macquire\u001b[0m\u001b[0;34m(\u001b[0m\u001b[0;34m)\u001b[0m\u001b[0;34m\u001b[0m\u001b[0;34m\u001b[0m\u001b[0m\n\u001b[0m\u001b[1;32m    297\u001b[0m                 \u001b[0mgotit\u001b[0m \u001b[0;34m=\u001b[0m \u001b[0;32mTrue\u001b[0m\u001b[0;34m\u001b[0m\u001b[0;34m\u001b[0m\u001b[0m\n\u001b[1;32m    298\u001b[0m             \u001b[0;32melse\u001b[0m\u001b[0;34m:\u001b[0m\u001b[0;34m\u001b[0m\u001b[0;34m\u001b[0m\u001b[0m\n",
            "\u001b[0;31mKeyboardInterrupt\u001b[0m: "
          ]
        }
      ]
    },
    {
      "cell_type": "code",
      "source": [
        "seed(1)\n",
        "# define range for input\n",
        "bounds = asarray([[-100, 100]]*5)\n",
        "# define the total iterations\n",
        "n_iterations = 500\n",
        "# define the maximum step size\n",
        "step_size = 10\n",
        "# initial temperature\n",
        "temp = 20\n",
        "# perform the simulated annealing search\n",
        "best_position_in_every_run_SA=[]\n",
        "for i in range(50):\n",
        "  best, score, best_fitness_SA = simulated_annealing(sphere1, bounds, n_iterations, step_size, temp)\n",
        "  best_position_in_every_run_SA.append(best_fitness_SA)\n",
        "  print('Done!')"
      ],
      "metadata": {
        "colab": {
          "base_uri": "https://localhost:8080/"
        },
        "id": "4AE4pQ3zvA3T",
        "outputId": "6354584f-8bf1-4b07-9eac-47e47d0b41e7"
      },
      "execution_count": null,
      "outputs": [
        {
          "output_type": "stream",
          "name": "stderr",
          "text": [
            "/usr/local/lib/python3.7/dist-packages/ipykernel_launcher.py:40: RuntimeWarning: overflow encountered in exp\n"
          ]
        },
        {
          "output_type": "stream",
          "name": "stdout",
          "text": [
            "Done!\n",
            "Done!\n",
            "Done!\n",
            "Done!\n",
            "Done!\n",
            "Done!\n",
            "Done!\n",
            "Done!\n",
            "Done!\n",
            "Done!\n",
            "Done!\n",
            "Done!\n",
            "Done!\n",
            "Done!\n",
            "Done!\n",
            "Done!\n",
            "Done!\n",
            "Done!\n",
            "Done!\n",
            "Done!\n",
            "Done!\n",
            "Done!\n",
            "Done!\n",
            "Done!\n",
            "Done!\n",
            "Done!\n",
            "Done!\n",
            "Done!\n",
            "Done!\n",
            "Done!\n",
            "Done!\n",
            "Done!\n",
            "Done!\n",
            "Done!\n",
            "Done!\n",
            "Done!\n",
            "Done!\n",
            "Done!\n",
            "Done!\n",
            "Done!\n",
            "Done!\n",
            "Done!\n",
            "Done!\n",
            "Done!\n",
            "Done!\n",
            "Done!\n",
            "Done!\n",
            "Done!\n",
            "Done!\n",
            "Done!\n"
          ]
        }
      ]
    },
    {
      "cell_type": "code",
      "source": [
        "best_position_in_every_run_SA_=[best_position_in_every_run_SA[i][-1] for i in range(len(best_position_in_every_run_SA))]"
      ],
      "metadata": {
        "id": "6JBvPLZ2vWDD"
      },
      "execution_count": null,
      "outputs": []
    },
    {
      "cell_type": "code",
      "source": [
        "st_dev_SA = statistics.pstdev(best_position_in_every_run_SA_)\n",
        "mean_SA = mean(best_position_in_every_run_SA_)\n",
        "median_SA = statistics.median(best_position_in_every_run_SA_)\n",
        "\n",
        "print(f\"mean: {mean_SA} \\t median: {median_SA} \\t std: {st_dev_SA}\")"
      ],
      "metadata": {
        "colab": {
          "base_uri": "https://localhost:8080/"
        },
        "id": "-Ql2xEA7vW3b",
        "outputId": "fb8b38d3-a434-45fe-cd65-495afacc8793"
      },
      "execution_count": null,
      "outputs": [
        {
          "output_type": "stream",
          "name": "stdout",
          "text": [
            "mean: 30.488334505807792 \t median: 31.897808403180754 \t std: 14.20745485358927\n"
          ]
        }
      ]
    },
    {
      "cell_type": "code",
      "source": [
        "best_position_in_every_run_GSA=[]\n",
        "for i in range(50):\n",
        "  best_fitness_GSA=GSA(sphere1,-100,100,5,20,100)\n",
        "  best_position_in_every_run_GSA.append(best_fitness_GSA)"
      ],
      "metadata": {
        "id": "9aAyZUC8wDpO"
      },
      "execution_count": null,
      "outputs": []
    },
    {
      "cell_type": "code",
      "source": [
        "best_position_in_every_run_GSA_=[best_position_in_every_run_GSA[i][-1] for i in range(len(best_position_in_every_run_GSA))]"
      ],
      "metadata": {
        "id": "ufTA_36rwQj3"
      },
      "execution_count": null,
      "outputs": []
    },
    {
      "cell_type": "code",
      "source": [
        "st_dev_GSA = statistics.pstdev(best_position_in_every_run_GSA_)\n",
        "mean_GSA = mean(best_position_in_every_run_GSA_)\n",
        "median_GSA = statistics.median(best_position_in_every_run_GSA_)\n",
        "\n",
        "print(f\"mean: {mean_GSA} \\t median: {median_GSA} \\t std: {st_dev_GSA}\")"
      ],
      "metadata": {
        "colab": {
          "base_uri": "https://localhost:8080/"
        },
        "id": "1pReZ8mvwgBo",
        "outputId": "5cb60a21-9e1f-477f-8a2d-96628953f90f"
      },
      "execution_count": null,
      "outputs": [
        {
          "output_type": "stream",
          "name": "stdout",
          "text": [
            "mean: 54.880756339339456 \t median: 19.072088155832496 \t std: 122.12059895267\n"
          ]
        }
      ]
    },
    {
      "cell_type": "code",
      "source": [],
      "metadata": {
        "id": "v9doPCo6wkna"
      },
      "execution_count": null,
      "outputs": []
    }
  ],
  "metadata": {
    "accelerator": "GPU",
    "colab": {
      "collapsed_sections": [
        "-fBeFgx0atny",
        "2-c4zgQ97i5X",
        "iDEz_IXVnMF3",
        "iv1hyLStnSMb",
        "rQH-xjTenU44",
        "7ir5kk3pnx9P",
        "ZXwg0k56Zkms",
        "u7dDIyAjfe2F",
        "mzh0YqWyn9Uh",
        "FydFmBqRoAhN"
      ],
      "provenance": []
    },
    "kernelspec": {
      "display_name": "Python 3",
      "name": "python3"
    },
    "language_info": {
      "name": "python"
    }
  },
  "nbformat": 4,
  "nbformat_minor": 0
}